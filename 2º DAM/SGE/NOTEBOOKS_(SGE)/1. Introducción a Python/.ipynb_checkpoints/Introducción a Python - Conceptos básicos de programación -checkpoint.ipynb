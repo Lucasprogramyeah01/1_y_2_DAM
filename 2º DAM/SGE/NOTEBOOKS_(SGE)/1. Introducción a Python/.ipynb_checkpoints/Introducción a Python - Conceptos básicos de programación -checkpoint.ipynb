{
 "cells": [
  {
   "cell_type": "markdown",
   "metadata": {},
   "source": [
    "# Fundamentos de Programación\n",
    "# Una introducción a Python: Conceptos básicos de programación\n",
    "**Autor**: Fermín Cruz.   **Revisores**: José A. Troyano, Carlos G. Vallejo, Mariano González, Daniel Mateos.   **Última modificación:** 25 de septiembre de 2019"
   ]
  },
  {
   "cell_type": "markdown",
   "metadata": {},
   "source": [
    "Este documento está pensado para que comiences a comprender los programas escritos en el lenguaje Python, y a escribir tus primeros programas. No tienes que tener ningún conocimiento previo para entenderlo, aunque algunos de los conceptos son un poco abstractos, por lo que es posible que tengas que leer las explicaciones varias veces, y despacito... No pretendemos profundizar en ninguno de los contenidos que aquí se presentan, sino más bien dar un primer vistazo a lo que te puedes encontrar en un programa escrito en Python. Más adelante, iremos profundizando en cada uno de estos contenidos. \n",
    "\n",
    "\n",
    "Debes ir ejecutando cada una de las celdas de código\\* que vayas encontrado. Para hacer esto, puedes hacer clic en la celda en cuestión y luego en el botón con el icono de \"play\" que aparece en la barra de herramientas; también puedes pulsar las teclas \"Mayúsculas\" y \"Entrar\" al mismo tiempo. Si empiezas en la primera celda, puedes ir usando el mismo icono de \"play\" para ir ejecutando y avanzando a lo largo del notebook. Si \"ejecutas\" una celda como esta, que no contiene código, simplemente pasarás a la siguiente. **Debes ejecutar todas las celdas que contienen código**, si no lo haces es posible que algunos ejemplos de código\\* no funcionen. \n",
    "\n",
    "Los apartados marcados con el título **¡Prueba tú!** están pensados para que escribas pequeños trocitos de código\\*, de manera que compruebes si has comprendido lo que se te acaba de explicar. Es importante que no continúes leyendo hasta que no hayas resuelto lo que se te va pidiendo. Si no consigues resolver alguno de estos apartados, ya sabes: **pide ayuda a tu profesor**.\n",
    "\n",
    "\\* Cuando hablamos de \"código\" nos referimos a un trozo de texto sacado de un programa informático. En inglés, es frecuente usar el término **coding** para referirse al acto de escribir programas informáticos. Por cierto, ¿qué tal andas de inglés? Verás que gran parte de la información que hay que consultar para programar está en inglés, así que es mejor que te vayas acostumbrando...\n",
    "\n",
    "### ¿Empezamos?"
   ]
  },
  {
   "cell_type": "markdown",
   "metadata": {},
   "source": [
    "## 1. Instrucciones y funciones"
   ]
  },
  {
   "cell_type": "markdown",
   "metadata": {
    "nbpresent": {
     "id": "71219fc3-c9cb-4700-9f0b-ab38b1b223da"
    },
    "slideshow": {
     "slide_type": "-"
    }
   },
   "source": [
    "Un programa Python está formado por **instrucciones** (a veces también son llamadas **sentencias**). Cada instrucción se escribe normalmente en una línea. Por ejemplo, la siguiente instrucción sirve para imprimir el mensaje \"Hola, mundo!\" en la pantalla.\n",
    "\n",
    "Para ejecutar la instrucción, haz clic sobre la celda de abajo y luego pulsa el icono de \"play\" (también puedes pulsar las teclas \"Mayúsculas+Entrar\")."
   ]
  },
  {
   "cell_type": "code",
   "execution_count": 83,
   "metadata": {
    "nbpresent": {
     "id": "ae8725fa-30f7-4d7f-a2c2-5f86953d730b"
    }
   },
   "outputs": [
    {
     "name": "stdout",
     "output_type": "stream",
     "text": [
      "Hola, mundo!\n"
     ]
    }
   ],
   "source": [
    "print(\"Hola, mundo!\")"
   ]
  },
  {
   "cell_type": "markdown",
   "metadata": {
    "nbpresent": {
     "id": "86423d42-e808-47e6-b1a7-e925e195f821"
    }
   },
   "source": [
    "Si en un programa hay varias instrucciones, estas se ejecutan secuencialmente, una tras otra."
   ]
  },
  {
   "cell_type": "code",
   "execution_count": 84,
   "metadata": {
    "nbpresent": {
     "id": "d0569bb0-fad8-48b7-8d48-0066bfb90401"
    }
   },
   "outputs": [
    {
     "name": "stdout",
     "output_type": "stream",
     "text": [
      "Hola, mundo!\n",
      "Adiós, mundo!\n"
     ]
    }
   ],
   "source": [
    "print(\"Hola, mundo!\")\n",
    "print(\"Adiós, mundo!\")"
   ]
  },
  {
   "cell_type": "markdown",
   "metadata": {
    "nbpresent": {
     "id": "7adaaf8f-a83e-456b-b99a-d3b3d4cb6d1a"
    }
   },
   "source": [
    "La instrucción que hemos usado en los ejemplos anteriores, **print** (que significa imprimir en inglés), es una **función predefinida** (*built-in function*). Una función puede ser \"llamada\" (también se dice \"invocada\") desde un programa escribiendo su nombre y a continuación unos paréntesis de apertura y cierre. En ocasiones, las funciones reciben **parámetros**, que se escriben en la llamada dentro de los paréntesis, separados por comas si hay más de uno."
   ]
  },
  {
   "cell_type": "markdown",
   "metadata": {},
   "source": [
    "### ¡Prueba tú!"
   ]
  },
  {
   "cell_type": "code",
   "execution_count": 85,
   "metadata": {},
   "outputs": [
    {
     "name": "stdout",
     "output_type": "stream",
     "text": [
      "Hola, mi nombre es Jose Luis\n"
     ]
    }
   ],
   "source": [
    "# Escribe una llamada a la función print para mostrar algún mensaje en pantalla.\n",
    "print(\"Hola, mi nombre es Jose Luis\")\n",
    "\n"
   ]
  },
  {
   "cell_type": "markdown",
   "metadata": {},
   "source": [
    "Hay muchas funciones predefinidas, por ejemplo la función **help** nos proporciona ayuda sobre cualquier otra función. "
   ]
  },
  {
   "cell_type": "code",
   "execution_count": 86,
   "metadata": {
    "nbpresent": {
     "id": "998dc7f5-ab6d-4fb8-866f-4fa96a06aaaa"
    }
   },
   "outputs": [
    {
     "name": "stdout",
     "output_type": "stream",
     "text": [
      "Help on built-in function print in module builtins:\n",
      "\n",
      "print(...)\n",
      "    print(value, ..., sep=' ', end='\\n', file=sys.stdout, flush=False)\n",
      "    \n",
      "    Prints the values to a stream, or to sys.stdout by default.\n",
      "    Optional keyword arguments:\n",
      "    file:  a file-like object (stream); defaults to the current sys.stdout.\n",
      "    sep:   string inserted between values, default a space.\n",
      "    end:   string appended after the last value, default a newline.\n",
      "    flush: whether to forcibly flush the stream.\n",
      "\n"
     ]
    }
   ],
   "source": [
    "help(print)   # Nos muestra información de ayuda sobre la función predefinida print"
   ]
  },
  {
   "cell_type": "markdown",
   "metadata": {},
   "source": [
    "Por supuesto, la ayuda está en inglés. Habrá que acostumbrarse, porque la inmensa mayoría de documentación y ayudas que vas a encontrar para programar estará también en inglés..."
   ]
  },
  {
   "cell_type": "markdown",
   "metadata": {},
   "source": [
    "### ¡Prueba tú!"
   ]
  },
  {
   "cell_type": "code",
   "execution_count": 87,
   "metadata": {},
   "outputs": [
    {
     "name": "stdout",
     "output_type": "stream",
     "text": [
      "Help on _Helper in module _sitebuiltins object:\n",
      "\n",
      "class _Helper(builtins.object)\n",
      " |  Define the builtin 'help'.\n",
      " |  \n",
      " |  This is a wrapper around pydoc.help that provides a helpful message\n",
      " |  when 'help' is typed at the Python interactive prompt.\n",
      " |  \n",
      " |  Calling help() at the Python prompt starts an interactive help session.\n",
      " |  Calling help(thing) prints help for the python object 'thing'.\n",
      " |  \n",
      " |  Methods defined here:\n",
      " |  \n",
      " |  __call__(self, *args, **kwds)\n",
      " |      Call self as a function.\n",
      " |  \n",
      " |  __repr__(self)\n",
      " |      Return repr(self).\n",
      " |  \n",
      " |  ----------------------------------------------------------------------\n",
      " |  Data descriptors defined here:\n",
      " |  \n",
      " |  __dict__\n",
      " |      dictionary for instance variables (if defined)\n",
      " |  \n",
      " |  __weakref__\n",
      " |      list of weak references to the object (if defined)\n",
      "\n"
     ]
    }
   ],
   "source": [
    "# Haz que se muestre la ayuda disponible sobre la propia función help\n",
    "\n",
    "help(help)\n"
   ]
  },
  {
   "cell_type": "markdown",
   "metadata": {
    "nbpresent": {
     "id": "829150e0-712b-4739-92d6-37b9c3d789cb"
    }
   },
   "source": [
    "En el ejemplo anterior hemos usado el carácter almohadilla (#) para escribir un **comentario** sobre el código. Los comentarios se usan en los programas para hacer aclaraciones, explicar el funcionamiento y, en general, hacer más fácil de entender nuestros programas. \n",
    "\n",
    "Las funciones anteriores se llaman funciones predefinidas porque ya vienen incluidas \"por defecto\" en Python. Por contra, los programadores pueden **definir** sus propias **funciones**, como se muestra a continuación."
   ]
  },
  {
   "cell_type": "code",
   "execution_count": 88,
   "metadata": {
    "nbpresent": {
     "id": "8dce188c-36b7-41fa-9020-b5cb5502e452"
    }
   },
   "outputs": [],
   "source": [
    "def saluda(nombre):\n",
    "    ''' \n",
    "    Esta función imprime un saludo personalizado con el nombre indicado mediante el parámetro \"nombre\".\n",
    "    '''\n",
    "    print(\"Hola, \" + nombre)"
   ]
  },
  {
   "cell_type": "markdown",
   "metadata": {
    "nbpresent": {
     "id": "35a148d4-f201-4441-bf5e-8a07f93dea84"
    }
   },
   "source": [
    "La función que acabamos de definir se llama *saluda* y recibe un único parámetro. Después de la primera línea (llamada **cabecera** o **prototipo** de la función) vienen una o varias instrucciones (llamadas **cuerpo** de la función), que serán ejecutadas cuando alguien llame a la función. Date cuenta de que las instrucciones que conforman el cuerpo de la función aparecen indentadas, es decir, tienen un tabulador delante. \n",
    "\n",
    "Las primeras líneas del cuerpo de la función, que comienzan y acaban con tres comillas simples, se llaman **comentario de documentación** de la función, y, aunque no son obligatorias, sí es recomendable incluirlas. Cuando alguien llame a la función predefinida *help* para pedir ayuda sobre nuestra función, se mostrará precisamente el texto aquí incluido.\n",
    "\n",
    "Lo que hará la función cuando alguien la llame será mostrar un mensaje de saludo. Hagamos una llamada para probar la función: prueba a escribir tu nombre entre las comillas."
   ]
  },
  {
   "cell_type": "code",
   "execution_count": 89,
   "metadata": {
    "nbpresent": {
     "id": "85d1ab90-cc65-4935-808b-a6f57ecc892e"
    }
   },
   "outputs": [
    {
     "name": "stdout",
     "output_type": "stream",
     "text": [
      "Hola, Jose Luis\n"
     ]
    }
   ],
   "source": [
    "saluda(\"Jose Luis\")"
   ]
  },
  {
   "cell_type": "markdown",
   "metadata": {
    "nbpresent": {
     "id": "d99a804c-9444-418b-bc94-3c2f064e2844"
    }
   },
   "source": [
    "Al definir una función conseguimos reutilizar la funcionalidad implementada las veces que queramos, simplemente llamando a la función en las partes del programa en que necesitemos dicha funcionalidad. Por ejemplo, ahora puedo realizar varios saludos, uno tras otro:"
   ]
  },
  {
   "cell_type": "code",
   "execution_count": 90,
   "metadata": {
    "nbpresent": {
     "id": "86172e20-fe16-447d-859f-24a81e563011"
    }
   },
   "outputs": [
    {
     "name": "stdout",
     "output_type": "stream",
     "text": [
      "Hola, John\n",
      "Hola, Paul\n",
      "Hola, George\n",
      "Hola, Ringo\n"
     ]
    }
   ],
   "source": [
    "saluda(\"John\")\n",
    "saluda(\"Paul\")\n",
    "saluda(\"George\")\n",
    "saluda(\"Ringo\")"
   ]
  },
  {
   "cell_type": "markdown",
   "metadata": {},
   "source": [
    "### ¡Prueba tú!"
   ]
  },
  {
   "cell_type": "markdown",
   "metadata": {},
   "source": [
    "Define una función llamada *saluda_educado* que reciba un nombre como parámetro, imprima el mismo saludo personalizado que la función saluda, y a continuación imprima el texto \"Encantado de conocerle\".\n",
    "\n",
    "**¡Truco!:** puedes llamar a la función anterior *saluda* desde el cuerpo de la nueva función *saluda_educado*."
   ]
  },
  {
   "cell_type": "code",
   "execution_count": 91,
   "metadata": {},
   "outputs": [
    {
     "name": "stdout",
     "output_type": "stream",
     "text": [
      "Hola, Jose Luis \n",
      "Encantado de conocerle\n"
     ]
    }
   ],
   "source": [
    "def saluda(nombre):\n",
    " '''\n",
    " Esta función imprime un saludo personalizado con el nombre indicado mediante el parametro \"nombre\".\n",
    " '''\n",
    "print(\"Hola, Jose Luis \" )\n",
    "print(\"Encantado de conocerle\")\n",
    "\n",
    "  "
   ]
  },
  {
   "cell_type": "markdown",
   "metadata": {},
   "source": [
    "## 2. Expresiones y tipos"
   ]
  },
  {
   "cell_type": "markdown",
   "metadata": {
    "nbpresent": {
     "id": "9659b1c1-9aed-4d71-b830-4a60d408ad71"
    }
   },
   "source": [
    "En la instrucción que hemos escrito al definir la función *saluda*:\n",
    "```python \n",
    "print(\"Hola, \" + nombre)\n",
    "```\n",
    "\n",
    "hemos usado un **operador**, el signo +, que sirve para concatenar las dos cadenas de texto: la cadena *\"Hola, \"* y la cadena contenida en el parámetro *nombre*. \n",
    "\n",
    "El uso de operadores es habitual en todos los lenguajes de programación. Llamamos **expresiones** a las instrucciones formadas por operadores (como el +), literales (como la cadena *\"Hola, \"*) y variables (como el parámetro *nombre*) *[bueno, y más participantes que iremos viendo más adelante]*. Una expresión es siempre evaluada por Python, para obtener un resultado, antes de seguir ejecutando el resto de instrucciones del programa. \n",
    "\n",
    "Veamos algunos ejemplos de expresiones utilizando los **operadores aritméticos**. Prueba a cambiar los ejemplos que se muestran para experimentar un poco."
   ]
  },
  {
   "cell_type": "code",
   "execution_count": 92,
   "metadata": {
    "nbpresent": {
     "id": "5a579720-fa62-4525-85e3-dd049cbd73be"
    }
   },
   "outputs": [
    {
     "data": {
      "text/plain": [
       "13"
      ]
     },
     "execution_count": 92,
     "metadata": {},
     "output_type": "execute_result"
    }
   ],
   "source": [
    "3 + 10"
   ]
  },
  {
   "cell_type": "code",
   "execution_count": 93,
   "metadata": {
    "nbpresent": {
     "id": "f6847886-4044-43a7-9edd-f18efddcb7a9"
    }
   },
   "outputs": [
    {
     "data": {
      "text/plain": [
       "28"
      ]
     },
     "execution_count": 93,
     "metadata": {},
     "output_type": "execute_result"
    }
   ],
   "source": [
    "3 + 5 * 5"
   ]
  },
  {
   "cell_type": "code",
   "execution_count": 94,
   "metadata": {
    "nbpresent": {
     "id": "5d433d13-f44a-45bb-91fd-406f60b33b67"
    }
   },
   "outputs": [
    {
     "data": {
      "text/plain": [
       "56"
      ]
     },
     "execution_count": 94,
     "metadata": {},
     "output_type": "execute_result"
    }
   ],
   "source": [
    "(3 + 5) * 7"
   ]
  },
  {
   "cell_type": "code",
   "execution_count": 95,
   "metadata": {},
   "outputs": [
    {
     "data": {
      "text/plain": [
       "32.0"
      ]
     },
     "execution_count": 95,
     "metadata": {},
     "output_type": "execute_result"
    }
   ],
   "source": [
    "(3 + 5) * 8 / 2"
   ]
  },
  {
   "cell_type": "markdown",
   "metadata": {},
   "source": [
    "### ¡Prueba tú!"
   ]
  },
  {
   "cell_type": "code",
   "execution_count": 96,
   "metadata": {},
   "outputs": [
    {
     "data": {
      "text/plain": [
       "23.0"
      ]
     },
     "execution_count": 96,
     "metadata": {},
     "output_type": "execute_result"
    }
   ],
   "source": [
    "# Escribe alguna expresión usando operadores aritméticos. Además de los anteriores tienes los siguientes:\n",
    "# - // % **\n",
    "(3 + 8) * 5 - 96 / 3\n",
    "\n"
   ]
  },
  {
   "cell_type": "markdown",
   "metadata": {},
   "source": [
    "En las expresiones también podemos usar llamadas a funciones, siempre que sean funciones que devuelvan algún resultado. Para que una función devuelva un valor cuando sea invocada, usaremos la instrucción **return** en algún punto del cuerpo de la función (casi siempre, al final del cuerpo de la función). Por ejemplo:"
   ]
  },
  {
   "cell_type": "code",
   "execution_count": 97,
   "metadata": {},
   "outputs": [
    {
     "data": {
      "text/plain": [
       "20"
      ]
     },
     "execution_count": 97,
     "metadata": {},
     "output_type": "execute_result"
    }
   ],
   "source": [
    "def doble(x):\n",
    "    return x * 2\n",
    "\n",
    "doble(10)"
   ]
  },
  {
   "cell_type": "markdown",
   "metadata": {
    "nbpresent": {
     "id": "ee1bdf03-6e13-4f1f-9dc9-22d4e344fdba"
    }
   },
   "source": [
    "A veces necesitamos guardar el resultado de una expresión para utilizarlo más adelante en nuestro programa. Para esto se usan las **variables**. "
   ]
  },
  {
   "cell_type": "code",
   "execution_count": 98,
   "metadata": {
    "nbpresent": {
     "id": "14d1a927-b37f-4323-9404-17d453f3b487"
    }
   },
   "outputs": [
    {
     "name": "stdout",
     "output_type": "stream",
     "text": [
      "25.6\n"
     ]
    }
   ],
   "source": [
    "resultado = (3 + 5) * doble(8)\n",
    "print(resultado / 5)"
   ]
  },
  {
   "cell_type": "markdown",
   "metadata": {
    "nbpresent": {
     "id": "c71a78d7-9d0e-4825-9c84-9998f971317d"
    }
   },
   "source": [
    "Hemos **asignado** a la variable *resultado* el valor de la expresión que hemos escrito a la derecha del carácter igual (=), de manera que más adelante en el programa podremos utilizar ese valor haciendo mención a la variable. A este carácter igual lo llamamos instrucción de **asignación**."
   ]
  },
  {
   "cell_type": "markdown",
   "metadata": {},
   "source": [
    "### ¡Prueba tú!"
   ]
  },
  {
   "cell_type": "markdown",
   "metadata": {},
   "source": [
    "Intenta definir una función de nombre *descuento* que reciba como parámetro un valor y un porcentaje y devuelva el resultado de aplicar el descuento correspondiente al porcentaje sobre el valor indicado."
   ]
  },
  {
   "cell_type": "code",
   "execution_count": 99,
   "metadata": {},
   "outputs": [
    {
     "ename": "SyntaxError",
     "evalue": "invalid syntax (<ipython-input-99-3c09d1fcea98>, line 3)",
     "output_type": "error",
     "traceback": [
      "\u001b[1;36m  File \u001b[1;32m\"<ipython-input-99-3c09d1fcea98>\"\u001b[1;36m, line \u001b[1;32m3\u001b[0m\n\u001b[1;33m    descuento = 100 + 75%\u001b[0m\n\u001b[1;37m                         ^\u001b[0m\n\u001b[1;31mSyntaxError\u001b[0m\u001b[1;31m:\u001b[0m invalid syntax\n"
     ]
    }
   ],
   "source": [
    "# Define aquí la función\n",
    "precio = 100\n",
    "descuento = 100 + 75%\n",
    "print(precio - descuento)\n",
    "\n"
   ]
  },
  {
   "cell_type": "markdown",
   "metadata": {},
   "source": [
    "Cuando la termines de escribir, puedes ejecutar esta prueba:"
   ]
  },
  {
   "cell_type": "code",
   "execution_count": 100,
   "metadata": {},
   "outputs": [
    {
     "ename": "NameError",
     "evalue": "name 'descuento' is not defined",
     "output_type": "error",
     "traceback": [
      "\u001b[1;31m---------------------------------------------------------------------------\u001b[0m",
      "\u001b[1;31mNameError\u001b[0m                                 Traceback (most recent call last)",
      "\u001b[1;32m<ipython-input-100-5effcff6183d>\u001b[0m in \u001b[0;36m<module>\u001b[1;34m\u001b[0m\n\u001b[0;32m      1\u001b[0m \u001b[0mprecio\u001b[0m \u001b[1;33m=\u001b[0m \u001b[1;36m200\u001b[0m\u001b[1;33m\u001b[0m\u001b[1;33m\u001b[0m\u001b[0m\n\u001b[1;32m----> 2\u001b[1;33m \u001b[0mprint\u001b[0m\u001b[1;33m(\u001b[0m\u001b[1;34m\"Precio con 10% de descuento:\"\u001b[0m\u001b[1;33m,\u001b[0m \u001b[0mdescuento\u001b[0m\u001b[1;33m(\u001b[0m\u001b[0mprecio\u001b[0m\u001b[1;33m,\u001b[0m \u001b[1;36m10\u001b[0m\u001b[1;33m)\u001b[0m\u001b[1;33m)\u001b[0m\u001b[1;33m\u001b[0m\u001b[1;33m\u001b[0m\u001b[0m\n\u001b[0m",
      "\u001b[1;31mNameError\u001b[0m: name 'descuento' is not defined"
     ]
    }
   ],
   "source": [
    "precio = 200\n",
    "print(\"Precio con 10% de descuento:\", descuento(precio, 10))"
   ]
  },
  {
   "cell_type": "markdown",
   "metadata": {},
   "source": [
    "En los ejemplos anteriores, hemos utilizado **literales** de tipo **cadena de caracteres** (por ejemplo, *\"Hola, mundo!\"*) y literales de tipo número **entero** (por ejemplo, *3*, *5* y *8*). Hay más tipos de literales, por ejemplo literales de tipo número **real** o de tipo **lógico**: "
   ]
  },
  {
   "cell_type": "code",
   "execution_count": 101,
   "metadata": {
    "nbpresent": {
     "id": "80be6133-d85a-4e43-9964-6578abcbaaac"
    }
   },
   "outputs": [
    {
     "name": "stdout",
     "output_type": "stream",
     "text": [
      "El área del círculo es 7.0685775\n",
      "¿Es el área superior al umbral? False\n"
     ]
    }
   ],
   "source": [
    "PI = 3.14159\n",
    "radio = 1.5\n",
    "area = PI * radio**2   # El operador ** sirve para calcular potencias\n",
    "print(\"El área del círculo es\", area)\n",
    "\n",
    "umbral = 100.0\n",
    "area_superior_umbral = area > umbral  \n",
    "# El carácter > es un operador relacional, se evalúa como True (verdadero) o False (falso)\n",
    "print(\"¿Es el área superior al umbral?\", area_superior_umbral)"
   ]
  },
  {
   "cell_type": "markdown",
   "metadata": {},
   "source": [
    "## 3. Listas y tuplas"
   ]
  },
  {
   "cell_type": "markdown",
   "metadata": {
    "nbpresent": {
     "id": "9b7597e9-aaa9-4d9f-ba0d-22f43d1a3900"
    }
   },
   "source": [
    "Cuando necesitamos almacenar varios datos en una sola variable, utilizamos literales de tipo **lista**:"
   ]
  },
  {
   "cell_type": "code",
   "execution_count": 102,
   "metadata": {
    "nbpresent": {
     "id": "0281a659-abae-4cb9-b30f-b552b9db399e"
    }
   },
   "outputs": [
    {
     "name": "stdout",
     "output_type": "stream",
     "text": [
      "[28.5, 27.8, 29.5, 32.1, 30.7, 25.5, 26.0]\n"
     ]
    }
   ],
   "source": [
    "temperaturas = [28.5, 27.8, 29.5, 32.1, 30.7, 25.5, 26.0]\n",
    "print(temperaturas)"
   ]
  },
  {
   "cell_type": "code",
   "execution_count": 103,
   "metadata": {},
   "outputs": [
    {
     "name": "stdout",
     "output_type": "stream",
     "text": [
      "['Spiderman', 'Iron Man', 'Lobezno', 'Capitán América', 'Hulk']\n"
     ]
    }
   ],
   "source": [
    "heroes = [\"Spiderman\", \"Iron Man\", \"Lobezno\", \"Capitán América\", \"Hulk\"]\n",
    "print(heroes)"
   ]
  },
  {
   "cell_type": "markdown",
   "metadata": {},
   "source": [
    "O, a veces, de tipo **tupla**, que se escriben igual pero usando paréntesis en lugar de corchetes:"
   ]
  },
  {
   "cell_type": "code",
   "execution_count": 104,
   "metadata": {},
   "outputs": [
    {
     "name": "stdout",
     "output_type": "stream",
     "text": [
      "('Mark', 'Lenders')\n"
     ]
    }
   ],
   "source": [
    "usuario = (\"Mark\", \"Lenders\")\n",
    "print(usuario)"
   ]
  },
  {
   "cell_type": "markdown",
   "metadata": {},
   "source": [
    "Ambos, listas y tuplas, se parecen mucho (ya veremos algunas diferencias más adelante). Podemos acceder a un elemento concreto, indicando el **índice** de dicho elemento (es decir, la posición que ocupa dentro de la lista o tupla, contando desde la izquierda):"
   ]
  },
  {
   "cell_type": "code",
   "execution_count": 105,
   "metadata": {},
   "outputs": [
    {
     "data": {
      "text/plain": [
       "28.5"
      ]
     },
     "execution_count": 105,
     "metadata": {},
     "output_type": "execute_result"
    }
   ],
   "source": [
    "temperaturas[0]   # La primera posición corresponde al índice 0"
   ]
  },
  {
   "cell_type": "code",
   "execution_count": 106,
   "metadata": {},
   "outputs": [
    {
     "data": {
      "text/plain": [
       "'Hulk'"
      ]
     },
     "execution_count": 106,
     "metadata": {},
     "output_type": "execute_result"
    }
   ],
   "source": [
    "heroes[4]"
   ]
  },
  {
   "cell_type": "code",
   "execution_count": 107,
   "metadata": {},
   "outputs": [
    {
     "data": {
      "text/plain": [
       "'Lenders'"
      ]
     },
     "execution_count": 107,
     "metadata": {},
     "output_type": "execute_result"
    }
   ],
   "source": [
    "usuario[1]"
   ]
  },
  {
   "cell_type": "code",
   "execution_count": 108,
   "metadata": {},
   "outputs": [
    {
     "name": "stdout",
     "output_type": "stream",
     "text": [
      "[28.5, 27.0, 29.5, 32.1, 30.7, 25.5, 26.0]\n"
     ]
    }
   ],
   "source": [
    "temperaturas[1] = 27.0\n",
    "# Puedo asignar un valor a una posición cualquiera de una lista\n",
    "print(temperaturas)"
   ]
  },
  {
   "cell_type": "code",
   "execution_count": 109,
   "metadata": {},
   "outputs": [
    {
     "name": "stdout",
     "output_type": "stream",
     "text": [
      "[29.0, 27.0, 29.5, 32.1, 30.7, 25.5, 26.0]\n"
     ]
    }
   ],
   "source": [
    "temperaturas[0] = temperaturas[0] + 0.5\n",
    "# Incrementamos en 0.5 grados la primera temperatura de la lista\n",
    "print(temperaturas)"
   ]
  },
  {
   "cell_type": "markdown",
   "metadata": {},
   "source": [
    "También podemos conocer en cualquier momento el número total de elementos dentro de una lista o una tupla mediante la función predefinida **len**:"
   ]
  },
  {
   "cell_type": "code",
   "execution_count": 110,
   "metadata": {},
   "outputs": [
    {
     "data": {
      "text/plain": [
       "7"
      ]
     },
     "execution_count": 110,
     "metadata": {},
     "output_type": "execute_result"
    }
   ],
   "source": [
    "len(temperaturas)"
   ]
  },
  {
   "cell_type": "code",
   "execution_count": 111,
   "metadata": {},
   "outputs": [
    {
     "data": {
      "text/plain": [
       "2"
      ]
     },
     "execution_count": 111,
     "metadata": {},
     "output_type": "execute_result"
    }
   ],
   "source": [
    "len(usuario)"
   ]
  },
  {
   "cell_type": "markdown",
   "metadata": {},
   "source": [
    "---\n",
    "**¡Cuidado!** No podemos asignar valores a las posiciones de una tupla. Prueba a ejecutar este código:"
   ]
  },
  {
   "cell_type": "code",
   "execution_count": 112,
   "metadata": {},
   "outputs": [
    {
     "ename": "TypeError",
     "evalue": "'tuple' object does not support item assignment",
     "output_type": "error",
     "traceback": [
      "\u001b[1;31m---------------------------------------------------------------------------\u001b[0m",
      "\u001b[1;31mTypeError\u001b[0m                                 Traceback (most recent call last)",
      "\u001b[1;32m<ipython-input-112-4064d3d57ed0>\u001b[0m in \u001b[0;36m<module>\u001b[1;34m\u001b[0m\n\u001b[1;32m----> 1\u001b[1;33m \u001b[0musuario\u001b[0m\u001b[1;33m[\u001b[0m\u001b[1;36m0\u001b[0m\u001b[1;33m]\u001b[0m \u001b[1;33m=\u001b[0m \u001b[1;34m\"Marcos\"\u001b[0m \u001b[1;31m# Cambiemos el nombre del usuario\u001b[0m\u001b[1;33m\u001b[0m\u001b[1;33m\u001b[0m\u001b[0m\n\u001b[0m",
      "\u001b[1;31mTypeError\u001b[0m: 'tuple' object does not support item assignment"
     ]
    }
   ],
   "source": [
    "usuario[0] = \"Marcos\" # Cambiemos el nombre del usuario"
   ]
  },
  {
   "cell_type": "markdown",
   "metadata": {},
   "source": [
    "Decimos que las tuplas son un **tipo inmutable**, lo que significa que una vez que hemos guardado un valor en una variable de este tipo, ¡ya no podremos cambiarlo!\n",
    "\n",
    "Lo que acaba de ocurrir es un **error en tiempo de ejecución**. Estos errores ocurren frecuentemente mientras estamos escribiendo y probando nuestros programas, y significan que no hemos hecho algo de la manera correcta. Cuando se produce uno de estos errores, el programa deja de ejecutarse. Cuando nuestro programa esté acabado y bien probado, no debería ocurrir ninguno de estos errores... Aunque ocasionalmente ocurre. Seguro que te suena esta ventana:\n",
    "\n",
    "![title](img001.png)\n"
   ]
  },
  {
   "cell_type": "markdown",
   "metadata": {},
   "source": [
    "### ¡Prueba tú!"
   ]
  },
  {
   "cell_type": "markdown",
   "metadata": {},
   "source": [
    "Los elementos de la lista *temperaturas* son números reales. Pero una lista puede contener elementos del tipo que quieras. Intenta definir una lista *usuarios*, en la que cada elemento sea una tupla *(nombre, apellido)*, como la tupla *usuario* que hemos definido anteriormente. Aquí tienes algunos pares nombre-apellido que puedes meter en la lista:\n",
    "* Mark Lenders\n",
    "* Oliver Atom\n",
    "* Benji Price"
   ]
  },
  {
   "cell_type": "code",
   "execution_count": 113,
   "metadata": {},
   "outputs": [
    {
     "name": "stdout",
     "output_type": "stream",
     "text": [
      "('Mark Lenders', 'Oliver Atom', 'Benji Price')\n"
     ]
    }
   ],
   "source": [
    "# Completa la instrucción siguiente:\n",
    "usuarios = (\"Mark Lenders\", \"Oliver Atom\", \"Benji Price\")\n",
    "print(usuarios)"
   ]
  },
  {
   "cell_type": "markdown",
   "metadata": {},
   "source": [
    "## 4. Diccionarios\n",
    "\n",
    "Existen más tipos como las listas y las tuplas, que permiten almacenar conjuntos de datos. Uno muy utilizado es el **diccionario**. En un diccionario, cada valor almacenado se asocia a una clave, de manera que para acceder a los **valores** se utilizan dichas **claves** (de forma parecida a como para acceder a los valores de una lista se utilizan los índices).\n"
   ]
  },
  {
   "cell_type": "markdown",
   "metadata": {},
   "source": [
    "Puedes pensar en un diccionario como si se tratara de una tabla con dos columnas. Por ejemplo, un diccionario podría almacenar las temperaturas medias de las capitales andaluzas, indexando dichos valores mediante los nombres de las capitales:\n",
    "\n",
    "|Clave|Valor|\n",
    "|---|---|\n",
    "|\"Almería\"|19.9|\n",
    "|\"Cádiz\"| 19.1|\n",
    "|\"Córdoba\"| 19.1|\n",
    "|\"Granada\"|16.6|\n",
    "|\"Jaén\"|18.2|\n",
    "|\"Huelva\"|19.0|\n",
    "|\"Málaga\"|19.8|\n",
    "|\"Sevilla\"|20.0|\n",
    "\n",
    "Lo cual se escribiría en Python de la siguiente manera:"
   ]
  },
  {
   "cell_type": "code",
   "execution_count": 114,
   "metadata": {},
   "outputs": [
    {
     "name": "stdout",
     "output_type": "stream",
     "text": [
      "{'Almería': 19.9, 'Cádiz': 19.1, 'Córdoba': 19.1, 'Granada': 16.6, 'Jaén': 18.2, 'Huelva': 19.0, 'Málaga': 19.8, 'Sevilla': 20.0}\n"
     ]
    }
   ],
   "source": [
    "temperatura_media = {\"Almería\": 19.9, \"Cádiz\": 19.1, \"Córdoba\": 19.1, \"Granada\": 16.6, \n",
    "                    \"Jaén\": 18.2, \"Huelva\": 19.0, \"Málaga\": 19.8, \"Sevilla\": 20.0}\n",
    "print(temperatura_media)"
   ]
  },
  {
   "cell_type": "markdown",
   "metadata": {},
   "source": [
    "Ahora podemos trabajar con los datos del diccionario de forma parecida a las listas, aunque usando las claves para acceder a los valores, en lugar de los índices."
   ]
  },
  {
   "cell_type": "code",
   "execution_count": 115,
   "metadata": {},
   "outputs": [
    {
     "name": "stdout",
     "output_type": "stream",
     "text": [
      "Temperatura anterior: 20.0\n",
      "Temperatura actual: 21.0\n"
     ]
    }
   ],
   "source": [
    "print(\"Temperatura anterior:\", temperatura_media['Sevilla'])\n",
    "temperatura_media['Sevilla'] += 1.0   # ¡Cambio climático!\n",
    "print(\"Temperatura actual:\", temperatura_media['Sevilla'])"
   ]
  },
  {
   "cell_type": "markdown",
   "metadata": {},
   "source": [
    "### ¡Prueba tú!\n",
    "\n",
    "Intenta definir un diccionario en el que las claves sean los usuarios que definiste en el ejercicio anterior, y los valores asociados sean las contraseñas de acceso a un sistema."
   ]
  },
  {
   "cell_type": "code",
   "execution_count": 116,
   "metadata": {},
   "outputs": [
    {
     "name": "stdout",
     "output_type": "stream",
     "text": [
      "{'Mark Lenders': 123456, 'Oliver Atom': 789654, 'Benji Price': 246810}\n"
     ]
    }
   ],
   "source": [
    "# Completa la instrucción siguiente:\n",
    "contraseñas = {\"Mark Lenders\": 123456, \"Oliver Atom\": 789654, \"Benji Price\": 246810}\n",
    "print(contraseñas)"
   ]
  },
  {
   "cell_type": "markdown",
   "metadata": {},
   "source": [
    "## 5. Objetos"
   ]
  },
  {
   "cell_type": "markdown",
   "metadata": {},
   "source": [
    "Si queremos añadir un elemento a la lista *temperaturas*, podemos hacerlo así:"
   ]
  },
  {
   "cell_type": "code",
   "execution_count": 117,
   "metadata": {},
   "outputs": [
    {
     "name": "stdout",
     "output_type": "stream",
     "text": [
      "[29.0, 27.0, 29.5, 32.1, 30.7, 25.5, 26.0, 29.2]\n",
      "8\n"
     ]
    }
   ],
   "source": [
    "temperaturas.append(29.2)  # añade el valor 29.2 al final de la lista\n",
    "print(temperaturas)\n",
    "print(len(temperaturas))"
   ]
  },
  {
   "cell_type": "markdown",
   "metadata": {},
   "source": [
    "Cuando una variable (*temperaturas*) puede ser usada como en el ejemplo anterior, escribiendo un punto (.) y a continuación invocando a una función (*append*), decimos que la variable es un **objeto**, y a la función en cuestión la llamamos **método**. La principal diferencia entre un método y una función es que el primero sólo se puede llamar si tenemos previamente un objeto del tipo adecuado. Por ejemplo, el método *append* sólo puede ser invocado sobre un objeto de tipo lista. \n",
    "\n",
    "Intentemos llamar a *append* como si fuese una función:"
   ]
  },
  {
   "cell_type": "code",
   "execution_count": 118,
   "metadata": {
    "scrolled": true
   },
   "outputs": [
    {
     "ename": "NameError",
     "evalue": "name 'append' is not defined",
     "output_type": "error",
     "traceback": [
      "\u001b[1;31m---------------------------------------------------------------------------\u001b[0m",
      "\u001b[1;31mNameError\u001b[0m                                 Traceback (most recent call last)",
      "\u001b[1;32m<ipython-input-118-7a2cbbc23a19>\u001b[0m in \u001b[0;36m<module>\u001b[1;34m\u001b[0m\n\u001b[1;32m----> 1\u001b[1;33m \u001b[0mappend\u001b[0m\u001b[1;33m(\u001b[0m\u001b[1;36m29.2\u001b[0m\u001b[1;33m)\u001b[0m\u001b[1;33m\u001b[0m\u001b[1;33m\u001b[0m\u001b[0m\n\u001b[0m",
      "\u001b[1;31mNameError\u001b[0m: name 'append' is not defined"
     ]
    }
   ],
   "source": [
    "append(29.2)"
   ]
  },
  {
   "cell_type": "markdown",
   "metadata": {},
   "source": [
    "Puedes ver todos los métodos que tiene un objeto mediante la función predefinida **dir**:"
   ]
  },
  {
   "cell_type": "code",
   "execution_count": 119,
   "metadata": {},
   "outputs": [
    {
     "data": {
      "text/plain": [
       "['__add__',\n",
       " '__class__',\n",
       " '__contains__',\n",
       " '__delattr__',\n",
       " '__delitem__',\n",
       " '__dir__',\n",
       " '__doc__',\n",
       " '__eq__',\n",
       " '__format__',\n",
       " '__ge__',\n",
       " '__getattribute__',\n",
       " '__getitem__',\n",
       " '__gt__',\n",
       " '__hash__',\n",
       " '__iadd__',\n",
       " '__imul__',\n",
       " '__init__',\n",
       " '__init_subclass__',\n",
       " '__iter__',\n",
       " '__le__',\n",
       " '__len__',\n",
       " '__lt__',\n",
       " '__mul__',\n",
       " '__ne__',\n",
       " '__new__',\n",
       " '__reduce__',\n",
       " '__reduce_ex__',\n",
       " '__repr__',\n",
       " '__reversed__',\n",
       " '__rmul__',\n",
       " '__setattr__',\n",
       " '__setitem__',\n",
       " '__sizeof__',\n",
       " '__str__',\n",
       " '__subclasshook__',\n",
       " 'append',\n",
       " 'clear',\n",
       " 'copy',\n",
       " 'count',\n",
       " 'extend',\n",
       " 'index',\n",
       " 'insert',\n",
       " 'pop',\n",
       " 'remove',\n",
       " 'reverse',\n",
       " 'sort']"
      ]
     },
     "execution_count": 119,
     "metadata": {},
     "output_type": "execute_result"
    }
   ],
   "source": [
    "dir(temperaturas)"
   ]
  },
  {
   "cell_type": "markdown",
   "metadata": {},
   "source": [
    "Y si quieres una descripción más detallada de cada método, puedes usar la función **help**, que ya hemos usado anteriormente."
   ]
  },
  {
   "cell_type": "code",
   "execution_count": 120,
   "metadata": {},
   "outputs": [
    {
     "name": "stdout",
     "output_type": "stream",
     "text": [
      "Help on list object:\n",
      "\n",
      "class list(object)\n",
      " |  list(iterable=(), /)\n",
      " |  \n",
      " |  Built-in mutable sequence.\n",
      " |  \n",
      " |  If no argument is given, the constructor creates a new empty list.\n",
      " |  The argument must be an iterable if specified.\n",
      " |  \n",
      " |  Methods defined here:\n",
      " |  \n",
      " |  __add__(self, value, /)\n",
      " |      Return self+value.\n",
      " |  \n",
      " |  __contains__(self, key, /)\n",
      " |      Return key in self.\n",
      " |  \n",
      " |  __delitem__(self, key, /)\n",
      " |      Delete self[key].\n",
      " |  \n",
      " |  __eq__(self, value, /)\n",
      " |      Return self==value.\n",
      " |  \n",
      " |  __ge__(self, value, /)\n",
      " |      Return self>=value.\n",
      " |  \n",
      " |  __getattribute__(self, name, /)\n",
      " |      Return getattr(self, name).\n",
      " |  \n",
      " |  __getitem__(...)\n",
      " |      x.__getitem__(y) <==> x[y]\n",
      " |  \n",
      " |  __gt__(self, value, /)\n",
      " |      Return self>value.\n",
      " |  \n",
      " |  __iadd__(self, value, /)\n",
      " |      Implement self+=value.\n",
      " |  \n",
      " |  __imul__(self, value, /)\n",
      " |      Implement self*=value.\n",
      " |  \n",
      " |  __init__(self, /, *args, **kwargs)\n",
      " |      Initialize self.  See help(type(self)) for accurate signature.\n",
      " |  \n",
      " |  __iter__(self, /)\n",
      " |      Implement iter(self).\n",
      " |  \n",
      " |  __le__(self, value, /)\n",
      " |      Return self<=value.\n",
      " |  \n",
      " |  __len__(self, /)\n",
      " |      Return len(self).\n",
      " |  \n",
      " |  __lt__(self, value, /)\n",
      " |      Return self<value.\n",
      " |  \n",
      " |  __mul__(self, value, /)\n",
      " |      Return self*value.\n",
      " |  \n",
      " |  __ne__(self, value, /)\n",
      " |      Return self!=value.\n",
      " |  \n",
      " |  __repr__(self, /)\n",
      " |      Return repr(self).\n",
      " |  \n",
      " |  __reversed__(self, /)\n",
      " |      Return a reverse iterator over the list.\n",
      " |  \n",
      " |  __rmul__(self, value, /)\n",
      " |      Return value*self.\n",
      " |  \n",
      " |  __setitem__(self, key, value, /)\n",
      " |      Set self[key] to value.\n",
      " |  \n",
      " |  __sizeof__(self, /)\n",
      " |      Return the size of the list in memory, in bytes.\n",
      " |  \n",
      " |  append(self, object, /)\n",
      " |      Append object to the end of the list.\n",
      " |  \n",
      " |  clear(self, /)\n",
      " |      Remove all items from list.\n",
      " |  \n",
      " |  copy(self, /)\n",
      " |      Return a shallow copy of the list.\n",
      " |  \n",
      " |  count(self, value, /)\n",
      " |      Return number of occurrences of value.\n",
      " |  \n",
      " |  extend(self, iterable, /)\n",
      " |      Extend list by appending elements from the iterable.\n",
      " |  \n",
      " |  index(self, value, start=0, stop=9223372036854775807, /)\n",
      " |      Return first index of value.\n",
      " |      \n",
      " |      Raises ValueError if the value is not present.\n",
      " |  \n",
      " |  insert(self, index, object, /)\n",
      " |      Insert object before index.\n",
      " |  \n",
      " |  pop(self, index=-1, /)\n",
      " |      Remove and return item at index (default last).\n",
      " |      \n",
      " |      Raises IndexError if list is empty or index is out of range.\n",
      " |  \n",
      " |  remove(self, value, /)\n",
      " |      Remove first occurrence of value.\n",
      " |      \n",
      " |      Raises ValueError if the value is not present.\n",
      " |  \n",
      " |  reverse(self, /)\n",
      " |      Reverse *IN PLACE*.\n",
      " |  \n",
      " |  sort(self, /, *, key=None, reverse=False)\n",
      " |      Stable sort *IN PLACE*.\n",
      " |  \n",
      " |  ----------------------------------------------------------------------\n",
      " |  Static methods defined here:\n",
      " |  \n",
      " |  __new__(*args, **kwargs) from builtins.type\n",
      " |      Create and return a new object.  See help(type) for accurate signature.\n",
      " |  \n",
      " |  ----------------------------------------------------------------------\n",
      " |  Data and other attributes defined here:\n",
      " |  \n",
      " |  __hash__ = None\n",
      "\n"
     ]
    }
   ],
   "source": [
    "help(temperaturas)"
   ]
  },
  {
   "cell_type": "markdown",
   "metadata": {},
   "source": [
    "### ¡Prueba tú!"
   ]
  },
  {
   "cell_type": "markdown",
   "metadata": {},
   "source": [
    "Intenta utilizar algunos de los métodos del objeto *temperaturas*:"
   ]
  },
  {
   "cell_type": "code",
   "execution_count": 121,
   "metadata": {},
   "outputs": [
    {
     "ename": "TypeError",
     "evalue": "'float' object is not iterable",
     "output_type": "error",
     "traceback": [
      "\u001b[1;31m---------------------------------------------------------------------------\u001b[0m",
      "\u001b[1;31mTypeError\u001b[0m                                 Traceback (most recent call last)",
      "\u001b[1;32m<ipython-input-121-97876914aec2>\u001b[0m in \u001b[0;36m<module>\u001b[1;34m\u001b[0m\n\u001b[1;32m----> 1\u001b[1;33m \u001b[0mtemperaturas\u001b[0m\u001b[1;33m.\u001b[0m\u001b[0mextend\u001b[0m\u001b[1;33m(\u001b[0m\u001b[1;36m29.2\u001b[0m\u001b[1;33m)\u001b[0m\u001b[1;33m\u001b[0m\u001b[1;33m\u001b[0m\u001b[0m\n\u001b[0m\u001b[0;32m      2\u001b[0m \u001b[0mprint\u001b[0m\u001b[1;33m(\u001b[0m\u001b[0mtemperaturas\u001b[0m\u001b[1;33m)\u001b[0m\u001b[1;33m\u001b[0m\u001b[1;33m\u001b[0m\u001b[0m\n\u001b[0;32m      3\u001b[0m \u001b[0mprint\u001b[0m\u001b[1;33m(\u001b[0m\u001b[0mlen\u001b[0m\u001b[1;33m(\u001b[0m\u001b[0mtemperaturas\u001b[0m\u001b[1;33m)\u001b[0m\u001b[1;33m)\u001b[0m\u001b[1;33m\u001b[0m\u001b[1;33m\u001b[0m\u001b[0m\n\u001b[0;32m      4\u001b[0m \u001b[1;33m\u001b[0m\u001b[0m\n",
      "\u001b[1;31mTypeError\u001b[0m: 'float' object is not iterable"
     ]
    }
   ],
   "source": [
    "temperaturas.extend(29.2)\n",
    "print(temperaturas)\n",
    "print(len(temperaturas))\n",
    "\n"
   ]
  },
  {
   "cell_type": "markdown",
   "metadata": {},
   "source": [
    "## 6. Control del flujo de ejecución"
   ]
  },
  {
   "cell_type": "markdown",
   "metadata": {},
   "source": [
    "Podemos utilizar la instrucción **for** para recorrer los elementos de una lista o una tupla. Llamamos a esto un **bucle**."
   ]
  },
  {
   "cell_type": "code",
   "execution_count": 122,
   "metadata": {},
   "outputs": [
    {
     "name": "stdout",
     "output_type": "stream",
     "text": [
      "Temperatura: 29.0\n",
      "Temperatura: 27.0\n",
      "Temperatura: 29.5\n",
      "Temperatura: 32.1\n",
      "Temperatura: 30.7\n",
      "Temperatura: 25.5\n",
      "Temperatura: 26.0\n",
      "Temperatura: 29.2\n"
     ]
    }
   ],
   "source": [
    "for temperatura in temperaturas:    # Se puede leer así: para cada valor \"temperatura\" en la lista \"temperaturas\"\n",
    "    print(\"Temperatura:\", temperatura)"
   ]
  },
  {
   "cell_type": "markdown",
   "metadata": {},
   "source": [
    "En el código anterior, la instrucción que aparece indentada se ejecuta una vez para cada elemento de la lista *temperaturas*. En cada ejecución, la variable *temperatura* almacena un elemento distinto de la lista, comenzando por el primero y pasando por cada elemento secuencialmente. Date cuenta también de que la función predefinida *print* se puede usar con varios parámetros, en cuyo caso mostrará cada uno de ellos por pantalla.\n",
    "\n",
    "Veamos otro ejemplo de bucle:"
   ]
  },
  {
   "cell_type": "code",
   "execution_count": 123,
   "metadata": {},
   "outputs": [
    {
     "name": "stdout",
     "output_type": "stream",
     "text": [
      "La temperatura media en la semana ha sido 28.624999999999996 grados.\n"
     ]
    }
   ],
   "source": [
    "suma = 0\n",
    "for temperatura in temperaturas:\n",
    "    suma += temperatura\n",
    "    # El operador += almacena en \"suma\" el resultado de sumar \"temperatura\" al valor anterior de \"suma\"\n",
    "print(\"La temperatura media en la semana ha sido\", suma / len(temperaturas), \"grados.\")"
   ]
  },
  {
   "cell_type": "markdown",
   "metadata": {},
   "source": [
    "Aunque realmente no hace falta hacer un bucle para sumar los elementos de una lista, ya que esto mismo podemos hacerlo en Python con la función predefinida **sum**."
   ]
  },
  {
   "cell_type": "code",
   "execution_count": 124,
   "metadata": {},
   "outputs": [
    {
     "name": "stdout",
     "output_type": "stream",
     "text": [
      "La temperatura media en la semana ha sido 28.624999999999996 grados.\n"
     ]
    }
   ],
   "source": [
    "print(\"La temperatura media en la semana ha sido\", sum(temperaturas) / len(temperaturas), \"grados.\")"
   ]
  },
  {
   "cell_type": "markdown",
   "metadata": {},
   "source": [
    "La instrucción *for* es una instrucción de **control del flujo de ejecución**, pues permite que la secuencia en que se van ejecutando las distintas instrucciones varíe con respecto a la ejecución esperada (recordemos que, por defecto, las instrucciones se van ejecutando una tras otra, en el orden en que las hemos escrito, y una sola vez). Otra instrucción que también altera el flujo normal de ejecución es la instrucción **if**. Veamos un ejemplo:"
   ]
  },
  {
   "cell_type": "code",
   "execution_count": 125,
   "metadata": {},
   "outputs": [
    {
     "name": "stdout",
     "output_type": "stream",
     "text": [
      "Buenos días, Fermín\n",
      "Buenas tardes, Fermín\n",
      "Buenas noches, Fermín\n"
     ]
    }
   ],
   "source": [
    "def saluda(nombre, hora):\n",
    "    if hora < 12:     # Si el parámetro \"hora\" es menor de 12, se ejecuta el siguiente bloque de instrucciones\n",
    "        print(\"Buenos días, \" + nombre)\n",
    "    elif hora < 21:   # En otro caso, si el parámetro \"hora\" es menor de 21, se ejecuta el siguiente bloque de instrucciones\n",
    "        print(\"Buenas tardes, \" + nombre)\n",
    "    else:           # En cualquier otro caso, se ejecuta el siguiente bloque de instrucciones\n",
    "        print(\"Buenas noches, \" + nombre)\n",
    "\n",
    "saluda(\"Fermín\", 11)\n",
    "saluda(\"Fermín\", 16)\n",
    "saluda(\"Fermín\", 23)\n"
   ]
  },
  {
   "cell_type": "markdown",
   "metadata": {},
   "source": [
    "Observa que las **palabras clave** que se usan son **if**, **elif** y **else**, y que a continuación de las dos primeras se escribe una expresión lógica (es decir, una expresión cuyo resultado es de tipo lógico: verdadero o falso). Las instrucciones que aparecen tras la palabra **if** sólo se ejecutan si la expresión correspondiente se evalúa como verdadera. Las instrucciones que aparecen tras la palabra **elif** sólo se ejecutan si no se han ejecutado las anteriores, y si la expresión correspondiente se evalúa como verdadera. Las instrucciones que aparecen tras la palabra **else** sólo se ejecutan si no se han ejecutado ninguna de las anteriores. \n",
    "\n",
    "Aquí tienes otros ejemplos:"
   ]
  },
  {
   "cell_type": "code",
   "execution_count": 126,
   "metadata": {},
   "outputs": [],
   "source": [
    "temperatura_actual = temperaturas[6]\n",
    "if temperatura_actual < 0:  # Si la temperatura es menor de cero grados\n",
    "    print(\"¡Cuidado! Riesgo de congelación.\")\n"
   ]
  },
  {
   "cell_type": "code",
   "execution_count": 127,
   "metadata": {},
   "outputs": [
    {
     "name": "stdout",
     "output_type": "stream",
     "text": [
      "Hola, Mark. Te estaba esperando.\n"
     ]
    }
   ],
   "source": [
    "# Si el primer elemento de la tupla \"usuario\" es igual a \"Mark\" y el segundo elemento es igual a \"Lenders\"\n",
    "if usuario[0] == \"Mark\" and usuario[1] == \"Lenders\": \n",
    "    print(\"Hola, Mark. Te estaba esperando.\")\n",
    "else:  # En otro caso\n",
    "    print(\"Hola, ¿nos conocemos?\")\n"
   ]
  },
  {
   "cell_type": "code",
   "execution_count": 128,
   "metadata": {},
   "outputs": [],
   "source": [
    "def acceso_restringido(usuario):\n",
    "    if usuario[0] == \"Mark\" and usuario[1] == \"Lenders\": \n",
    "        print(\"Hola, Mark. Te estaba esperando.\")\n",
    "    elif usuario[0] == \"Oliver\" and usuario[1] == \"Atom\": \n",
    "        print(\"Hola, Oliver. Te estaba esperando.\")\n",
    "    elif usuario[0] == \"Benji\" and usuario[1] == \"Price\": \n",
    "        print(\"Hola, Benji. Te estaba esperando.\")\n",
    "    else:  \n",
    "        print(\"Hola, ¿nos conocemos?\")\n"
   ]
  },
  {
   "cell_type": "markdown",
   "metadata": {},
   "source": [
    "Para escribir las expresiones lógicas se usan distintos **operadores lógicos** (como el operador **and**) y **operadores relacionales** (como los operadores **>** o **==**). Iremos viendo más operadores de estos tipos a medida que los vayamos necesitando."
   ]
  },
  {
   "cell_type": "markdown",
   "metadata": {},
   "source": [
    "### ¡Prueba tú!"
   ]
  },
  {
   "cell_type": "markdown",
   "metadata": {},
   "source": [
    "Escribe un bucle *for* para llamar a la función *acceso_restringido* pasándole cada uno de los elementos de la lista *usuarios*."
   ]
  },
  {
   "cell_type": "code",
   "execution_count": 133,
   "metadata": {},
   "outputs": [
    {
     "name": "stdout",
     "output_type": "stream",
     "text": [
      "acceso_restringido: Mark Lenders\n",
      "acceso_restringido: Oliver Atom\n",
      "acceso_restringido: Benji Price\n"
     ]
    }
   ],
   "source": [
    "for usuario in usuarios:\n",
    "    print(\"acceso_restringido:\", usuario)"
   ]
  },
  {
   "cell_type": "markdown",
   "metadata": {},
   "source": [
    "## 7. Módulos y paquetes"
   ]
  },
  {
   "cell_type": "markdown",
   "metadata": {},
   "source": [
    "Además de las funciones predefinidas, hay muchas otras cosas que se pueden hacer con Python sin necesidad de implementar nosotros ninguna función ni tener que descargar o instalar nada en el ordenador. Eso sí, para poder hacer uso de estas funcionalidades incluidas en Python, es necesario **importar** el módulo o módulos donde están implementadas. Un **módulo** es cada uno de los ficheros con extensión .py en los que están escritos los programas en Python. Los módulos están agrupados en **paquetes**, que son parecidos a las carpetas del explorador de archivos de Windows.\n",
    "\n",
    "Por ejemplo, si queremos generar números aleatorios, podemos usar el módulo **random**. Antes de hacerlo, es necesario importarlo. Prueba a ejecutar varias veces el siguiente código y verás como cada vez se genera un número distinto:"
   ]
  },
  {
   "cell_type": "code",
   "execution_count": 137,
   "metadata": {},
   "outputs": [
    {
     "name": "stdout",
     "output_type": "stream",
     "text": [
      "10\n"
     ]
    }
   ],
   "source": [
    "import random\n",
    "\n",
    "print(random.randint(1, 10))"
   ]
  },
  {
   "cell_type": "markdown",
   "metadata": {},
   "source": [
    "Fíjate que para llamar a la función randint, que está definida dentro del módulo random, debemos escribir *random.randint(...)*. Si vamos a usar muy a menudo la función en nuestro código, también podemos importarla así:"
   ]
  },
  {
   "cell_type": "code",
   "execution_count": 138,
   "metadata": {},
   "outputs": [
    {
     "name": "stdout",
     "output_type": "stream",
     "text": [
      "2\n"
     ]
    }
   ],
   "source": [
    "from random import randint\n",
    "\n",
    "print(randint(1, 10))"
   ]
  },
  {
   "cell_type": "markdown",
   "metadata": {},
   "source": [
    "De esta manera ya no es necesario indicar la ubicación de la función cada vez que la llamemos. Aunque es más cómodo, no es del todo recomendable, como veremos más adelante.\n",
    "\n",
    "¿Y si queremos generar, pongamos, 20 números aleatorios, entre 1 y 10? Podemos hacerlo con la instrucción **for**, la misma que utilizamos antes para recorrer los elementos de una lista:"
   ]
  },
  {
   "cell_type": "code",
   "execution_count": 139,
   "metadata": {},
   "outputs": [
    {
     "name": "stdout",
     "output_type": "stream",
     "text": [
      "[4, 5, 3, 5, 3, 3, 4, 1, 8, 7, 10, 7, 7, 6, 1, 8, 5, 10, 7, 3]\n"
     ]
    }
   ],
   "source": [
    "numeros = []\n",
    "for i in range(20):  # la función predefinida \"range\" devuelve los números enteros del 0 al 19.\n",
    "    numeros.append(randint(1, 10))\n",
    "print(numeros)"
   ]
  },
  {
   "cell_type": "markdown",
   "metadata": {},
   "source": [
    "En el siguiente ejemplo, usamos el módulo *datetime*, que nos permite, entre otras cosas, saber la hora actual en que se está ejecutando el programa."
   ]
  },
  {
   "cell_type": "code",
   "execution_count": 140,
   "metadata": {},
   "outputs": [
    {
     "name": "stdout",
     "output_type": "stream",
     "text": [
      "Buenas tardes, Fermín\n"
     ]
    }
   ],
   "source": [
    "# El módulo se llama \"datetime\", y dentro hay definido un objeto que también se llama \"datetime\"\n",
    "from datetime import datetime\n",
    "hora_actual = datetime.now()  # El método now() devuelve un objeto de tipo datetime\n",
    "# El objeto hora_actual tiene un atributo hour que indica la hora actual (de 0 a 23)\n",
    "saluda(\"Fermín\", hora_actual.hour)"
   ]
  },
  {
   "cell_type": "markdown",
   "metadata": {},
   "source": [
    "En el ejemplo anterior, cuando escribimos *hora_actual.hour* estamos accediendo a un **atributo**, llamado *hour*, del objeto *hora_actual*. Por tanto, los objetos tienen, además de métodos, atributos, los cuales son parecidos a las variables (al igual que los métodos eran parecidos a las funciones). La manera de diferenciar si estamos accediendo a un atributo o llamando a un método es que en el segundo caso usamos los paréntesis."
   ]
  },
  {
   "cell_type": "markdown",
   "metadata": {},
   "source": [
    "Con los distintos módulos existentes para Python se puede hacer prácticamente de todo. Por ejemplo, dibujar gráficas de todo tipo, mediante la librería **matplotlib**. Cuando hablamos de una **librería** nos referimos a un conjunto de módulos relacionados entre sí por el tipo de funcionalidad que ofrecen. Generalmente, los módulos de una librería están agrupados dentro de un paquete, como es el caso de *matplotlib*."
   ]
  },
  {
   "cell_type": "code",
   "execution_count": 142,
   "metadata": {
    "scrolled": false
   },
   "outputs": [
    {
     "data": {
      "application/javascript": [
       "/* Put everything inside the global mpl namespace */\n",
       "window.mpl = {};\n",
       "\n",
       "\n",
       "mpl.get_websocket_type = function() {\n",
       "    if (typeof(WebSocket) !== 'undefined') {\n",
       "        return WebSocket;\n",
       "    } else if (typeof(MozWebSocket) !== 'undefined') {\n",
       "        return MozWebSocket;\n",
       "    } else {\n",
       "        alert('Your browser does not have WebSocket support. ' +\n",
       "              'Please try Chrome, Safari or Firefox ≥ 6. ' +\n",
       "              'Firefox 4 and 5 are also supported but you ' +\n",
       "              'have to enable WebSockets in about:config.');\n",
       "    };\n",
       "}\n",
       "\n",
       "mpl.figure = function(figure_id, websocket, ondownload, parent_element) {\n",
       "    this.id = figure_id;\n",
       "\n",
       "    this.ws = websocket;\n",
       "\n",
       "    this.supports_binary = (this.ws.binaryType != undefined);\n",
       "\n",
       "    if (!this.supports_binary) {\n",
       "        var warnings = document.getElementById(\"mpl-warnings\");\n",
       "        if (warnings) {\n",
       "            warnings.style.display = 'block';\n",
       "            warnings.textContent = (\n",
       "                \"This browser does not support binary websocket messages. \" +\n",
       "                    \"Performance may be slow.\");\n",
       "        }\n",
       "    }\n",
       "\n",
       "    this.imageObj = new Image();\n",
       "\n",
       "    this.context = undefined;\n",
       "    this.message = undefined;\n",
       "    this.canvas = undefined;\n",
       "    this.rubberband_canvas = undefined;\n",
       "    this.rubberband_context = undefined;\n",
       "    this.format_dropdown = undefined;\n",
       "\n",
       "    this.image_mode = 'full';\n",
       "\n",
       "    this.root = $('<div/>');\n",
       "    this._root_extra_style(this.root)\n",
       "    this.root.attr('style', 'display: inline-block');\n",
       "\n",
       "    $(parent_element).append(this.root);\n",
       "\n",
       "    this._init_header(this);\n",
       "    this._init_canvas(this);\n",
       "    this._init_toolbar(this);\n",
       "\n",
       "    var fig = this;\n",
       "\n",
       "    this.waiting = false;\n",
       "\n",
       "    this.ws.onopen =  function () {\n",
       "            fig.send_message(\"supports_binary\", {value: fig.supports_binary});\n",
       "            fig.send_message(\"send_image_mode\", {});\n",
       "            if (mpl.ratio != 1) {\n",
       "                fig.send_message(\"set_dpi_ratio\", {'dpi_ratio': mpl.ratio});\n",
       "            }\n",
       "            fig.send_message(\"refresh\", {});\n",
       "        }\n",
       "\n",
       "    this.imageObj.onload = function() {\n",
       "            if (fig.image_mode == 'full') {\n",
       "                // Full images could contain transparency (where diff images\n",
       "                // almost always do), so we need to clear the canvas so that\n",
       "                // there is no ghosting.\n",
       "                fig.context.clearRect(0, 0, fig.canvas.width, fig.canvas.height);\n",
       "            }\n",
       "            fig.context.drawImage(fig.imageObj, 0, 0);\n",
       "        };\n",
       "\n",
       "    this.imageObj.onunload = function() {\n",
       "        fig.ws.close();\n",
       "    }\n",
       "\n",
       "    this.ws.onmessage = this._make_on_message_function(this);\n",
       "\n",
       "    this.ondownload = ondownload;\n",
       "}\n",
       "\n",
       "mpl.figure.prototype._init_header = function() {\n",
       "    var titlebar = $(\n",
       "        '<div class=\"ui-dialog-titlebar ui-widget-header ui-corner-all ' +\n",
       "        'ui-helper-clearfix\"/>');\n",
       "    var titletext = $(\n",
       "        '<div class=\"ui-dialog-title\" style=\"width: 100%; ' +\n",
       "        'text-align: center; padding: 3px;\"/>');\n",
       "    titlebar.append(titletext)\n",
       "    this.root.append(titlebar);\n",
       "    this.header = titletext[0];\n",
       "}\n",
       "\n",
       "\n",
       "\n",
       "mpl.figure.prototype._canvas_extra_style = function(canvas_div) {\n",
       "\n",
       "}\n",
       "\n",
       "\n",
       "mpl.figure.prototype._root_extra_style = function(canvas_div) {\n",
       "\n",
       "}\n",
       "\n",
       "mpl.figure.prototype._init_canvas = function() {\n",
       "    var fig = this;\n",
       "\n",
       "    var canvas_div = $('<div/>');\n",
       "\n",
       "    canvas_div.attr('style', 'position: relative; clear: both; outline: 0');\n",
       "\n",
       "    function canvas_keyboard_event(event) {\n",
       "        return fig.key_event(event, event['data']);\n",
       "    }\n",
       "\n",
       "    canvas_div.keydown('key_press', canvas_keyboard_event);\n",
       "    canvas_div.keyup('key_release', canvas_keyboard_event);\n",
       "    this.canvas_div = canvas_div\n",
       "    this._canvas_extra_style(canvas_div)\n",
       "    this.root.append(canvas_div);\n",
       "\n",
       "    var canvas = $('<canvas/>');\n",
       "    canvas.addClass('mpl-canvas');\n",
       "    canvas.attr('style', \"left: 0; top: 0; z-index: 0; outline: 0\")\n",
       "\n",
       "    this.canvas = canvas[0];\n",
       "    this.context = canvas[0].getContext(\"2d\");\n",
       "\n",
       "    var backingStore = this.context.backingStorePixelRatio ||\n",
       "\tthis.context.webkitBackingStorePixelRatio ||\n",
       "\tthis.context.mozBackingStorePixelRatio ||\n",
       "\tthis.context.msBackingStorePixelRatio ||\n",
       "\tthis.context.oBackingStorePixelRatio ||\n",
       "\tthis.context.backingStorePixelRatio || 1;\n",
       "\n",
       "    mpl.ratio = (window.devicePixelRatio || 1) / backingStore;\n",
       "\n",
       "    var rubberband = $('<canvas/>');\n",
       "    rubberband.attr('style', \"position: absolute; left: 0; top: 0; z-index: 1;\")\n",
       "\n",
       "    var pass_mouse_events = true;\n",
       "\n",
       "    canvas_div.resizable({\n",
       "        start: function(event, ui) {\n",
       "            pass_mouse_events = false;\n",
       "        },\n",
       "        resize: function(event, ui) {\n",
       "            fig.request_resize(ui.size.width, ui.size.height);\n",
       "        },\n",
       "        stop: function(event, ui) {\n",
       "            pass_mouse_events = true;\n",
       "            fig.request_resize(ui.size.width, ui.size.height);\n",
       "        },\n",
       "    });\n",
       "\n",
       "    function mouse_event_fn(event) {\n",
       "        if (pass_mouse_events)\n",
       "            return fig.mouse_event(event, event['data']);\n",
       "    }\n",
       "\n",
       "    rubberband.mousedown('button_press', mouse_event_fn);\n",
       "    rubberband.mouseup('button_release', mouse_event_fn);\n",
       "    // Throttle sequential mouse events to 1 every 20ms.\n",
       "    rubberband.mousemove('motion_notify', mouse_event_fn);\n",
       "\n",
       "    rubberband.mouseenter('figure_enter', mouse_event_fn);\n",
       "    rubberband.mouseleave('figure_leave', mouse_event_fn);\n",
       "\n",
       "    canvas_div.on(\"wheel\", function (event) {\n",
       "        event = event.originalEvent;\n",
       "        event['data'] = 'scroll'\n",
       "        if (event.deltaY < 0) {\n",
       "            event.step = 1;\n",
       "        } else {\n",
       "            event.step = -1;\n",
       "        }\n",
       "        mouse_event_fn(event);\n",
       "    });\n",
       "\n",
       "    canvas_div.append(canvas);\n",
       "    canvas_div.append(rubberband);\n",
       "\n",
       "    this.rubberband = rubberband;\n",
       "    this.rubberband_canvas = rubberband[0];\n",
       "    this.rubberband_context = rubberband[0].getContext(\"2d\");\n",
       "    this.rubberband_context.strokeStyle = \"#000000\";\n",
       "\n",
       "    this._resize_canvas = function(width, height) {\n",
       "        // Keep the size of the canvas, canvas container, and rubber band\n",
       "        // canvas in synch.\n",
       "        canvas_div.css('width', width)\n",
       "        canvas_div.css('height', height)\n",
       "\n",
       "        canvas.attr('width', width * mpl.ratio);\n",
       "        canvas.attr('height', height * mpl.ratio);\n",
       "        canvas.attr('style', 'width: ' + width + 'px; height: ' + height + 'px;');\n",
       "\n",
       "        rubberband.attr('width', width);\n",
       "        rubberband.attr('height', height);\n",
       "    }\n",
       "\n",
       "    // Set the figure to an initial 600x600px, this will subsequently be updated\n",
       "    // upon first draw.\n",
       "    this._resize_canvas(600, 600);\n",
       "\n",
       "    // Disable right mouse context menu.\n",
       "    $(this.rubberband_canvas).bind(\"contextmenu\",function(e){\n",
       "        return false;\n",
       "    });\n",
       "\n",
       "    function set_focus () {\n",
       "        canvas.focus();\n",
       "        canvas_div.focus();\n",
       "    }\n",
       "\n",
       "    window.setTimeout(set_focus, 100);\n",
       "}\n",
       "\n",
       "mpl.figure.prototype._init_toolbar = function() {\n",
       "    var fig = this;\n",
       "\n",
       "    var nav_element = $('<div/>');\n",
       "    nav_element.attr('style', 'width: 100%');\n",
       "    this.root.append(nav_element);\n",
       "\n",
       "    // Define a callback function for later on.\n",
       "    function toolbar_event(event) {\n",
       "        return fig.toolbar_button_onclick(event['data']);\n",
       "    }\n",
       "    function toolbar_mouse_event(event) {\n",
       "        return fig.toolbar_button_onmouseover(event['data']);\n",
       "    }\n",
       "\n",
       "    for(var toolbar_ind in mpl.toolbar_items) {\n",
       "        var name = mpl.toolbar_items[toolbar_ind][0];\n",
       "        var tooltip = mpl.toolbar_items[toolbar_ind][1];\n",
       "        var image = mpl.toolbar_items[toolbar_ind][2];\n",
       "        var method_name = mpl.toolbar_items[toolbar_ind][3];\n",
       "\n",
       "        if (!name) {\n",
       "            // put a spacer in here.\n",
       "            continue;\n",
       "        }\n",
       "        var button = $('<button/>');\n",
       "        button.addClass('ui-button ui-widget ui-state-default ui-corner-all ' +\n",
       "                        'ui-button-icon-only');\n",
       "        button.attr('role', 'button');\n",
       "        button.attr('aria-disabled', 'false');\n",
       "        button.click(method_name, toolbar_event);\n",
       "        button.mouseover(tooltip, toolbar_mouse_event);\n",
       "\n",
       "        var icon_img = $('<span/>');\n",
       "        icon_img.addClass('ui-button-icon-primary ui-icon');\n",
       "        icon_img.addClass(image);\n",
       "        icon_img.addClass('ui-corner-all');\n",
       "\n",
       "        var tooltip_span = $('<span/>');\n",
       "        tooltip_span.addClass('ui-button-text');\n",
       "        tooltip_span.html(tooltip);\n",
       "\n",
       "        button.append(icon_img);\n",
       "        button.append(tooltip_span);\n",
       "\n",
       "        nav_element.append(button);\n",
       "    }\n",
       "\n",
       "    var fmt_picker_span = $('<span/>');\n",
       "\n",
       "    var fmt_picker = $('<select/>');\n",
       "    fmt_picker.addClass('mpl-toolbar-option ui-widget ui-widget-content');\n",
       "    fmt_picker_span.append(fmt_picker);\n",
       "    nav_element.append(fmt_picker_span);\n",
       "    this.format_dropdown = fmt_picker[0];\n",
       "\n",
       "    for (var ind in mpl.extensions) {\n",
       "        var fmt = mpl.extensions[ind];\n",
       "        var option = $(\n",
       "            '<option/>', {selected: fmt === mpl.default_extension}).html(fmt);\n",
       "        fmt_picker.append(option);\n",
       "    }\n",
       "\n",
       "    // Add hover states to the ui-buttons\n",
       "    $( \".ui-button\" ).hover(\n",
       "        function() { $(this).addClass(\"ui-state-hover\");},\n",
       "        function() { $(this).removeClass(\"ui-state-hover\");}\n",
       "    );\n",
       "\n",
       "    var status_bar = $('<span class=\"mpl-message\"/>');\n",
       "    nav_element.append(status_bar);\n",
       "    this.message = status_bar[0];\n",
       "}\n",
       "\n",
       "mpl.figure.prototype.request_resize = function(x_pixels, y_pixels) {\n",
       "    // Request matplotlib to resize the figure. Matplotlib will then trigger a resize in the client,\n",
       "    // which will in turn request a refresh of the image.\n",
       "    this.send_message('resize', {'width': x_pixels, 'height': y_pixels});\n",
       "}\n",
       "\n",
       "mpl.figure.prototype.send_message = function(type, properties) {\n",
       "    properties['type'] = type;\n",
       "    properties['figure_id'] = this.id;\n",
       "    this.ws.send(JSON.stringify(properties));\n",
       "}\n",
       "\n",
       "mpl.figure.prototype.send_draw_message = function() {\n",
       "    if (!this.waiting) {\n",
       "        this.waiting = true;\n",
       "        this.ws.send(JSON.stringify({type: \"draw\", figure_id: this.id}));\n",
       "    }\n",
       "}\n",
       "\n",
       "\n",
       "mpl.figure.prototype.handle_save = function(fig, msg) {\n",
       "    var format_dropdown = fig.format_dropdown;\n",
       "    var format = format_dropdown.options[format_dropdown.selectedIndex].value;\n",
       "    fig.ondownload(fig, format);\n",
       "}\n",
       "\n",
       "\n",
       "mpl.figure.prototype.handle_resize = function(fig, msg) {\n",
       "    var size = msg['size'];\n",
       "    if (size[0] != fig.canvas.width || size[1] != fig.canvas.height) {\n",
       "        fig._resize_canvas(size[0], size[1]);\n",
       "        fig.send_message(\"refresh\", {});\n",
       "    };\n",
       "}\n",
       "\n",
       "mpl.figure.prototype.handle_rubberband = function(fig, msg) {\n",
       "    var x0 = msg['x0'] / mpl.ratio;\n",
       "    var y0 = (fig.canvas.height - msg['y0']) / mpl.ratio;\n",
       "    var x1 = msg['x1'] / mpl.ratio;\n",
       "    var y1 = (fig.canvas.height - msg['y1']) / mpl.ratio;\n",
       "    x0 = Math.floor(x0) + 0.5;\n",
       "    y0 = Math.floor(y0) + 0.5;\n",
       "    x1 = Math.floor(x1) + 0.5;\n",
       "    y1 = Math.floor(y1) + 0.5;\n",
       "    var min_x = Math.min(x0, x1);\n",
       "    var min_y = Math.min(y0, y1);\n",
       "    var width = Math.abs(x1 - x0);\n",
       "    var height = Math.abs(y1 - y0);\n",
       "\n",
       "    fig.rubberband_context.clearRect(\n",
       "        0, 0, fig.canvas.width / mpl.ratio, fig.canvas.height / mpl.ratio);\n",
       "\n",
       "    fig.rubberband_context.strokeRect(min_x, min_y, width, height);\n",
       "}\n",
       "\n",
       "mpl.figure.prototype.handle_figure_label = function(fig, msg) {\n",
       "    // Updates the figure title.\n",
       "    fig.header.textContent = msg['label'];\n",
       "}\n",
       "\n",
       "mpl.figure.prototype.handle_cursor = function(fig, msg) {\n",
       "    var cursor = msg['cursor'];\n",
       "    switch(cursor)\n",
       "    {\n",
       "    case 0:\n",
       "        cursor = 'pointer';\n",
       "        break;\n",
       "    case 1:\n",
       "        cursor = 'default';\n",
       "        break;\n",
       "    case 2:\n",
       "        cursor = 'crosshair';\n",
       "        break;\n",
       "    case 3:\n",
       "        cursor = 'move';\n",
       "        break;\n",
       "    }\n",
       "    fig.rubberband_canvas.style.cursor = cursor;\n",
       "}\n",
       "\n",
       "mpl.figure.prototype.handle_message = function(fig, msg) {\n",
       "    fig.message.textContent = msg['message'];\n",
       "}\n",
       "\n",
       "mpl.figure.prototype.handle_draw = function(fig, msg) {\n",
       "    // Request the server to send over a new figure.\n",
       "    fig.send_draw_message();\n",
       "}\n",
       "\n",
       "mpl.figure.prototype.handle_image_mode = function(fig, msg) {\n",
       "    fig.image_mode = msg['mode'];\n",
       "}\n",
       "\n",
       "mpl.figure.prototype.updated_canvas_event = function() {\n",
       "    // Called whenever the canvas gets updated.\n",
       "    this.send_message(\"ack\", {});\n",
       "}\n",
       "\n",
       "// A function to construct a web socket function for onmessage handling.\n",
       "// Called in the figure constructor.\n",
       "mpl.figure.prototype._make_on_message_function = function(fig) {\n",
       "    return function socket_on_message(evt) {\n",
       "        if (evt.data instanceof Blob) {\n",
       "            /* FIXME: We get \"Resource interpreted as Image but\n",
       "             * transferred with MIME type text/plain:\" errors on\n",
       "             * Chrome.  But how to set the MIME type?  It doesn't seem\n",
       "             * to be part of the websocket stream */\n",
       "            evt.data.type = \"image/png\";\n",
       "\n",
       "            /* Free the memory for the previous frames */\n",
       "            if (fig.imageObj.src) {\n",
       "                (window.URL || window.webkitURL).revokeObjectURL(\n",
       "                    fig.imageObj.src);\n",
       "            }\n",
       "\n",
       "            fig.imageObj.src = (window.URL || window.webkitURL).createObjectURL(\n",
       "                evt.data);\n",
       "            fig.updated_canvas_event();\n",
       "            fig.waiting = false;\n",
       "            return;\n",
       "        }\n",
       "        else if (typeof evt.data === 'string' && evt.data.slice(0, 21) == \"data:image/png;base64\") {\n",
       "            fig.imageObj.src = evt.data;\n",
       "            fig.updated_canvas_event();\n",
       "            fig.waiting = false;\n",
       "            return;\n",
       "        }\n",
       "\n",
       "        var msg = JSON.parse(evt.data);\n",
       "        var msg_type = msg['type'];\n",
       "\n",
       "        // Call the  \"handle_{type}\" callback, which takes\n",
       "        // the figure and JSON message as its only arguments.\n",
       "        try {\n",
       "            var callback = fig[\"handle_\" + msg_type];\n",
       "        } catch (e) {\n",
       "            console.log(\"No handler for the '\" + msg_type + \"' message type: \", msg);\n",
       "            return;\n",
       "        }\n",
       "\n",
       "        if (callback) {\n",
       "            try {\n",
       "                // console.log(\"Handling '\" + msg_type + \"' message: \", msg);\n",
       "                callback(fig, msg);\n",
       "            } catch (e) {\n",
       "                console.log(\"Exception inside the 'handler_\" + msg_type + \"' callback:\", e, e.stack, msg);\n",
       "            }\n",
       "        }\n",
       "    };\n",
       "}\n",
       "\n",
       "// from http://stackoverflow.com/questions/1114465/getting-mouse-location-in-canvas\n",
       "mpl.findpos = function(e) {\n",
       "    //this section is from http://www.quirksmode.org/js/events_properties.html\n",
       "    var targ;\n",
       "    if (!e)\n",
       "        e = window.event;\n",
       "    if (e.target)\n",
       "        targ = e.target;\n",
       "    else if (e.srcElement)\n",
       "        targ = e.srcElement;\n",
       "    if (targ.nodeType == 3) // defeat Safari bug\n",
       "        targ = targ.parentNode;\n",
       "\n",
       "    // jQuery normalizes the pageX and pageY\n",
       "    // pageX,Y are the mouse positions relative to the document\n",
       "    // offset() returns the position of the element relative to the document\n",
       "    var x = e.pageX - $(targ).offset().left;\n",
       "    var y = e.pageY - $(targ).offset().top;\n",
       "\n",
       "    return {\"x\": x, \"y\": y};\n",
       "};\n",
       "\n",
       "/*\n",
       " * return a copy of an object with only non-object keys\n",
       " * we need this to avoid circular references\n",
       " * http://stackoverflow.com/a/24161582/3208463\n",
       " */\n",
       "function simpleKeys (original) {\n",
       "  return Object.keys(original).reduce(function (obj, key) {\n",
       "    if (typeof original[key] !== 'object')\n",
       "        obj[key] = original[key]\n",
       "    return obj;\n",
       "  }, {});\n",
       "}\n",
       "\n",
       "mpl.figure.prototype.mouse_event = function(event, name) {\n",
       "    var canvas_pos = mpl.findpos(event)\n",
       "\n",
       "    if (name === 'button_press')\n",
       "    {\n",
       "        this.canvas.focus();\n",
       "        this.canvas_div.focus();\n",
       "    }\n",
       "\n",
       "    var x = canvas_pos.x * mpl.ratio;\n",
       "    var y = canvas_pos.y * mpl.ratio;\n",
       "\n",
       "    this.send_message(name, {x: x, y: y, button: event.button,\n",
       "                             step: event.step,\n",
       "                             guiEvent: simpleKeys(event)});\n",
       "\n",
       "    /* This prevents the web browser from automatically changing to\n",
       "     * the text insertion cursor when the button is pressed.  We want\n",
       "     * to control all of the cursor setting manually through the\n",
       "     * 'cursor' event from matplotlib */\n",
       "    event.preventDefault();\n",
       "    return false;\n",
       "}\n",
       "\n",
       "mpl.figure.prototype._key_event_extra = function(event, name) {\n",
       "    // Handle any extra behaviour associated with a key event\n",
       "}\n",
       "\n",
       "mpl.figure.prototype.key_event = function(event, name) {\n",
       "\n",
       "    // Prevent repeat events\n",
       "    if (name == 'key_press')\n",
       "    {\n",
       "        if (event.which === this._key)\n",
       "            return;\n",
       "        else\n",
       "            this._key = event.which;\n",
       "    }\n",
       "    if (name == 'key_release')\n",
       "        this._key = null;\n",
       "\n",
       "    var value = '';\n",
       "    if (event.ctrlKey && event.which != 17)\n",
       "        value += \"ctrl+\";\n",
       "    if (event.altKey && event.which != 18)\n",
       "        value += \"alt+\";\n",
       "    if (event.shiftKey && event.which != 16)\n",
       "        value += \"shift+\";\n",
       "\n",
       "    value += 'k';\n",
       "    value += event.which.toString();\n",
       "\n",
       "    this._key_event_extra(event, name);\n",
       "\n",
       "    this.send_message(name, {key: value,\n",
       "                             guiEvent: simpleKeys(event)});\n",
       "    return false;\n",
       "}\n",
       "\n",
       "mpl.figure.prototype.toolbar_button_onclick = function(name) {\n",
       "    if (name == 'download') {\n",
       "        this.handle_save(this, null);\n",
       "    } else {\n",
       "        this.send_message(\"toolbar_button\", {name: name});\n",
       "    }\n",
       "};\n",
       "\n",
       "mpl.figure.prototype.toolbar_button_onmouseover = function(tooltip) {\n",
       "    this.message.textContent = tooltip;\n",
       "};\n",
       "mpl.toolbar_items = [[\"Home\", \"Reset original view\", \"fa fa-home icon-home\", \"home\"], [\"Back\", \"Back to previous view\", \"fa fa-arrow-left icon-arrow-left\", \"back\"], [\"Forward\", \"Forward to next view\", \"fa fa-arrow-right icon-arrow-right\", \"forward\"], [\"\", \"\", \"\", \"\"], [\"Pan\", \"Pan axes with left mouse, zoom with right\", \"fa fa-arrows icon-move\", \"pan\"], [\"Zoom\", \"Zoom to rectangle\", \"fa fa-square-o icon-check-empty\", \"zoom\"], [\"\", \"\", \"\", \"\"], [\"Download\", \"Download plot\", \"fa fa-floppy-o icon-save\", \"download\"]];\n",
       "\n",
       "mpl.extensions = [\"eps\", \"pdf\", \"png\", \"ps\", \"raw\", \"svg\"];\n",
       "\n",
       "mpl.default_extension = \"png\";var comm_websocket_adapter = function(comm) {\n",
       "    // Create a \"websocket\"-like object which calls the given IPython comm\n",
       "    // object with the appropriate methods. Currently this is a non binary\n",
       "    // socket, so there is still some room for performance tuning.\n",
       "    var ws = {};\n",
       "\n",
       "    ws.close = function() {\n",
       "        comm.close()\n",
       "    };\n",
       "    ws.send = function(m) {\n",
       "        //console.log('sending', m);\n",
       "        comm.send(m);\n",
       "    };\n",
       "    // Register the callback with on_msg.\n",
       "    comm.on_msg(function(msg) {\n",
       "        //console.log('receiving', msg['content']['data'], msg);\n",
       "        // Pass the mpl event to the overridden (by mpl) onmessage function.\n",
       "        ws.onmessage(msg['content']['data'])\n",
       "    });\n",
       "    return ws;\n",
       "}\n",
       "\n",
       "mpl.mpl_figure_comm = function(comm, msg) {\n",
       "    // This is the function which gets called when the mpl process\n",
       "    // starts-up an IPython Comm through the \"matplotlib\" channel.\n",
       "\n",
       "    var id = msg.content.data.id;\n",
       "    // Get hold of the div created by the display call when the Comm\n",
       "    // socket was opened in Python.\n",
       "    var element = $(\"#\" + id);\n",
       "    var ws_proxy = comm_websocket_adapter(comm)\n",
       "\n",
       "    function ondownload(figure, format) {\n",
       "        window.open(figure.imageObj.src);\n",
       "    }\n",
       "\n",
       "    var fig = new mpl.figure(id, ws_proxy,\n",
       "                           ondownload,\n",
       "                           element.get(0));\n",
       "\n",
       "    // Call onopen now - mpl needs it, as it is assuming we've passed it a real\n",
       "    // web socket which is closed, not our websocket->open comm proxy.\n",
       "    ws_proxy.onopen();\n",
       "\n",
       "    fig.parent_element = element.get(0);\n",
       "    fig.cell_info = mpl.find_output_cell(\"<div id='\" + id + \"'></div>\");\n",
       "    if (!fig.cell_info) {\n",
       "        console.error(\"Failed to find cell for figure\", id, fig);\n",
       "        return;\n",
       "    }\n",
       "\n",
       "    var output_index = fig.cell_info[2]\n",
       "    var cell = fig.cell_info[0];\n",
       "\n",
       "};\n",
       "\n",
       "mpl.figure.prototype.handle_close = function(fig, msg) {\n",
       "    var width = fig.canvas.width/mpl.ratio\n",
       "    fig.root.unbind('remove')\n",
       "\n",
       "    // Update the output cell to use the data from the current canvas.\n",
       "    fig.push_to_output();\n",
       "    var dataURL = fig.canvas.toDataURL();\n",
       "    // Re-enable the keyboard manager in IPython - without this line, in FF,\n",
       "    // the notebook keyboard shortcuts fail.\n",
       "    IPython.keyboard_manager.enable()\n",
       "    $(fig.parent_element).html('<img src=\"' + dataURL + '\" width=\"' + width + '\">');\n",
       "    fig.close_ws(fig, msg);\n",
       "}\n",
       "\n",
       "mpl.figure.prototype.close_ws = function(fig, msg){\n",
       "    fig.send_message('closing', msg);\n",
       "    // fig.ws.close()\n",
       "}\n",
       "\n",
       "mpl.figure.prototype.push_to_output = function(remove_interactive) {\n",
       "    // Turn the data on the canvas into data in the output cell.\n",
       "    var width = this.canvas.width/mpl.ratio\n",
       "    var dataURL = this.canvas.toDataURL();\n",
       "    this.cell_info[1]['text/html'] = '<img src=\"' + dataURL + '\" width=\"' + width + '\">';\n",
       "}\n",
       "\n",
       "mpl.figure.prototype.updated_canvas_event = function() {\n",
       "    // Tell IPython that the notebook contents must change.\n",
       "    IPython.notebook.set_dirty(true);\n",
       "    this.send_message(\"ack\", {});\n",
       "    var fig = this;\n",
       "    // Wait a second, then push the new image to the DOM so\n",
       "    // that it is saved nicely (might be nice to debounce this).\n",
       "    setTimeout(function () { fig.push_to_output() }, 1000);\n",
       "}\n",
       "\n",
       "mpl.figure.prototype._init_toolbar = function() {\n",
       "    var fig = this;\n",
       "\n",
       "    var nav_element = $('<div/>');\n",
       "    nav_element.attr('style', 'width: 100%');\n",
       "    this.root.append(nav_element);\n",
       "\n",
       "    // Define a callback function for later on.\n",
       "    function toolbar_event(event) {\n",
       "        return fig.toolbar_button_onclick(event['data']);\n",
       "    }\n",
       "    function toolbar_mouse_event(event) {\n",
       "        return fig.toolbar_button_onmouseover(event['data']);\n",
       "    }\n",
       "\n",
       "    for(var toolbar_ind in mpl.toolbar_items){\n",
       "        var name = mpl.toolbar_items[toolbar_ind][0];\n",
       "        var tooltip = mpl.toolbar_items[toolbar_ind][1];\n",
       "        var image = mpl.toolbar_items[toolbar_ind][2];\n",
       "        var method_name = mpl.toolbar_items[toolbar_ind][3];\n",
       "\n",
       "        if (!name) { continue; };\n",
       "\n",
       "        var button = $('<button class=\"btn btn-default\" href=\"#\" title=\"' + name + '\"><i class=\"fa ' + image + ' fa-lg\"></i></button>');\n",
       "        button.click(method_name, toolbar_event);\n",
       "        button.mouseover(tooltip, toolbar_mouse_event);\n",
       "        nav_element.append(button);\n",
       "    }\n",
       "\n",
       "    // Add the status bar.\n",
       "    var status_bar = $('<span class=\"mpl-message\" style=\"text-align:right; float: right;\"/>');\n",
       "    nav_element.append(status_bar);\n",
       "    this.message = status_bar[0];\n",
       "\n",
       "    // Add the close button to the window.\n",
       "    var buttongrp = $('<div class=\"btn-group inline pull-right\"></div>');\n",
       "    var button = $('<button class=\"btn btn-mini btn-primary\" href=\"#\" title=\"Stop Interaction\"><i class=\"fa fa-power-off icon-remove icon-large\"></i></button>');\n",
       "    button.click(function (evt) { fig.handle_close(fig, {}); } );\n",
       "    button.mouseover('Stop Interaction', toolbar_mouse_event);\n",
       "    buttongrp.append(button);\n",
       "    var titlebar = this.root.find($('.ui-dialog-titlebar'));\n",
       "    titlebar.prepend(buttongrp);\n",
       "}\n",
       "\n",
       "mpl.figure.prototype._root_extra_style = function(el){\n",
       "    var fig = this\n",
       "    el.on(\"remove\", function(){\n",
       "\tfig.close_ws(fig, {});\n",
       "    });\n",
       "}\n",
       "\n",
       "mpl.figure.prototype._canvas_extra_style = function(el){\n",
       "    // this is important to make the div 'focusable\n",
       "    el.attr('tabindex', 0)\n",
       "    // reach out to IPython and tell the keyboard manager to turn it's self\n",
       "    // off when our div gets focus\n",
       "\n",
       "    // location in version 3\n",
       "    if (IPython.notebook.keyboard_manager) {\n",
       "        IPython.notebook.keyboard_manager.register_events(el);\n",
       "    }\n",
       "    else {\n",
       "        // location in version 2\n",
       "        IPython.keyboard_manager.register_events(el);\n",
       "    }\n",
       "\n",
       "}\n",
       "\n",
       "mpl.figure.prototype._key_event_extra = function(event, name) {\n",
       "    var manager = IPython.notebook.keyboard_manager;\n",
       "    if (!manager)\n",
       "        manager = IPython.keyboard_manager;\n",
       "\n",
       "    // Check for shift+enter\n",
       "    if (event.shiftKey && event.which == 13) {\n",
       "        this.canvas_div.blur();\n",
       "        event.shiftKey = false;\n",
       "        // Send a \"J\" for go to next cell\n",
       "        event.which = 74;\n",
       "        event.keyCode = 74;\n",
       "        manager.command_mode();\n",
       "        manager.handle_keydown(event);\n",
       "    }\n",
       "}\n",
       "\n",
       "mpl.figure.prototype.handle_save = function(fig, msg) {\n",
       "    fig.ondownload(fig, null);\n",
       "}\n",
       "\n",
       "\n",
       "mpl.find_output_cell = function(html_output) {\n",
       "    // Return the cell and output element which can be found *uniquely* in the notebook.\n",
       "    // Note - this is a bit hacky, but it is done because the \"notebook_saving.Notebook\"\n",
       "    // IPython event is triggered only after the cells have been serialised, which for\n",
       "    // our purposes (turning an active figure into a static one), is too late.\n",
       "    var cells = IPython.notebook.get_cells();\n",
       "    var ncells = cells.length;\n",
       "    for (var i=0; i<ncells; i++) {\n",
       "        var cell = cells[i];\n",
       "        if (cell.cell_type === 'code'){\n",
       "            for (var j=0; j<cell.output_area.outputs.length; j++) {\n",
       "                var data = cell.output_area.outputs[j];\n",
       "                if (data.data) {\n",
       "                    // IPython >= 3 moved mimebundle to data attribute of output\n",
       "                    data = data.data;\n",
       "                }\n",
       "                if (data['text/html'] == html_output) {\n",
       "                    return [cell, data, j];\n",
       "                }\n",
       "            }\n",
       "        }\n",
       "    }\n",
       "}\n",
       "\n",
       "// Register the function which deals with the matplotlib target/channel.\n",
       "// The kernel may be null if the page has been refreshed.\n",
       "if (IPython.notebook.kernel != null) {\n",
       "    IPython.notebook.kernel.comm_manager.register_target('matplotlib', mpl.mpl_figure_comm);\n",
       "}\n"
      ],
      "text/plain": [
       "<IPython.core.display.Javascript object>"
      ]
     },
     "metadata": {},
     "output_type": "display_data"
    },
    {
     "data": {
      "text/html": [
       "<img src=\"data:image/png;base64,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\" width=\"640\">"
      ],
      "text/plain": [
       "<IPython.core.display.HTML object>"
      ]
     },
     "metadata": {},
     "output_type": "display_data"
    },
    {
     "data": {
      "text/plain": [
       "[<matplotlib.lines.Line2D at 0x1dd9c2ffe10>]"
      ]
     },
     "execution_count": 142,
     "metadata": {},
     "output_type": "execute_result"
    }
   ],
   "source": [
    "# Para que las gráficas se muestren sobre el propio notebook, en lugar de en una ventana, hay que escribir:\n",
    "%matplotlib notebook    \n",
    "\n",
    "from matplotlib import pyplot  # pyplot es el módulo que permite dibujar gráficas matemáticas\n",
    "\n",
    "x = []   # \"x\" es una lista vacía, es decir, aún no contiene elementos\n",
    "y = []   # \"y\" también es una lista vacía\n",
    "for i in range(20):\n",
    "    x.append(randint(-50, 50))\n",
    "    y.append(randint(-50, 50))\n",
    "\n",
    "# El tercer parámetro sirve para especificar el formato de la representación gráfica de los datos\n",
    "pyplot.plot(x, y, \"o\")"
   ]
  },
  {
   "cell_type": "markdown",
   "metadata": {},
   "source": [
    "Todos los paquetes, módulos y librerías más usados están ampliamente documentados en Internet: sólo tienes que hacer una consulta a tu buscador favorito. Por ejemplo, si quieres ver qué otras cosas se pueden hacer con la función *plot*, puedes verlo aquí: https://matplotlib.org/api/pyplot_api.html#matplotlib.pyplot.plot"
   ]
  },
  {
   "cell_type": "markdown",
   "metadata": {},
   "source": [
    "### ¡Prueba tú!"
   ]
  },
  {
   "cell_type": "markdown",
   "metadata": {},
   "source": [
    "Intenta completar el siguiente código para mostrar una gráfica de la función coseno para los valores de la x contenidos en el intervalo \\[-10,10\\]. Busca documentación sobre el módulo **math** para ver cómo calcular el coseno de un número [prueba buscando en Google \"math Python 3\"](https://www.google.es/search?q=math+Python+3)."
   ]
  },
  {
   "cell_type": "code",
   "execution_count": 144,
   "metadata": {},
   "outputs": [],
   "source": [
    "%matplotlib notebook    \n",
    "import math\n",
    "\n",
    "lista_x = []  # En esta lista guardaremos los valores para los que vamos a calcular el coseno\n",
    "for i in range(-100, 101):\n",
    "    pass # ESCRIBE AQUÍ una instrucción para \"añadir a lista_x el valor i / 10\"\n",
    "    \n",
    "lista_y = []  # En esta lista guardaremos los cosenos de los valores anteriores\n",
    "for x in lista_x:\n",
    "    pass # ESCRIBE AQUÍ una instrucción para \"añadir a lista_y el valor coseno(x)\"\n",
    "    \n",
    "\n",
    "# ESCRIBE AQUÍ una instrucción para dibujar la gráfica correspondiente a las coordenadas lista_x y lista_y.\n",
    "# Elige las opciones de formato de la representación gráfica que quieras\n",
    "\n",
    "\n",
    "\n"
   ]
  },
  {
   "cell_type": "markdown",
   "metadata": {},
   "source": [
    "Cuando construimos una lista a partir de otra, como ocurre con *lista_y* en el código que acabas de completar, podemos hacerlo de una forma muy compacta llamada **definición de listas por comprensión**. Observa el siguiente ejemplo:"
   ]
  },
  {
   "cell_type": "code",
   "execution_count": 4,
   "metadata": {},
   "outputs": [
    {
     "ename": "NameError",
     "evalue": "name 'lista_x' is not defined",
     "output_type": "error",
     "traceback": [
      "\u001b[1;31m---------------------------------------------------------------------------\u001b[0m",
      "\u001b[1;31mNameError\u001b[0m                                 Traceback (most recent call last)",
      "\u001b[1;32m<ipython-input-4-63a8c933126d>\u001b[0m in \u001b[0;36m<module>\u001b[1;34m\u001b[0m\n\u001b[1;32m----> 1\u001b[1;33m \u001b[0mlista_y\u001b[0m \u001b[1;33m=\u001b[0m \u001b[1;33m[\u001b[0m\u001b[0mmath\u001b[0m\u001b[1;33m.\u001b[0m\u001b[0mcos\u001b[0m\u001b[1;33m(\u001b[0m\u001b[0mx\u001b[0m\u001b[1;33m)\u001b[0m \u001b[1;32mfor\u001b[0m \u001b[0mx\u001b[0m \u001b[1;32min\u001b[0m \u001b[0mlista_x\u001b[0m\u001b[1;33m]\u001b[0m\u001b[1;33m\u001b[0m\u001b[1;33m\u001b[0m\u001b[0m\n\u001b[0m\u001b[0;32m      2\u001b[0m \u001b[0mprint\u001b[0m\u001b[1;33m(\u001b[0m\u001b[0mlista_y\u001b[0m\u001b[1;33m)\u001b[0m\u001b[1;33m\u001b[0m\u001b[1;33m\u001b[0m\u001b[0m\n",
      "\u001b[1;31mNameError\u001b[0m: name 'lista_x' is not defined"
     ]
    }
   ],
   "source": [
    "lista_y = [math.cos(x) for x in lista_x]\n",
    "print(lista_y)"
   ]
  },
  {
   "cell_type": "markdown",
   "metadata": {},
   "source": [
    "## 8. Ficheros"
   ]
  },
  {
   "cell_type": "markdown",
   "metadata": {},
   "source": [
    "Es muy habitual trabajar con **ficheros** (quizás estés acostumbrado a referirte a ellos como \"archivos\", que es un sinónimo). Aunque los ficheros pueden contener todo tipo de datos, nosotros trabajaremos con ficheros de texto. Al igual que haces tú mismo cuando quieres trabajar con un documento en el ordenador, para trabajar con un fichero en Python primero tenemos que abrirlo; después podemos leer o escribir datos en el mismo, y finalmente hemos de cerrarlo. Aquí tienes un pequeño ejemplo que abre un fichero de texto y muestra su contenido en pantalla:\n"
   ]
  },
  {
   "cell_type": "code",
   "execution_count": 146,
   "metadata": {},
   "outputs": [
    {
     "name": "stdout",
     "output_type": "stream",
     "text": [
      "Un pequeÃ±o texto de prueba.\n",
      "\n",
      "SÃ³lo hay dos lÃ­neas en este fichero.\n"
     ]
    }
   ],
   "source": [
    "with open(\"prueba.txt\") as f:\n",
    "    for linea in f:\n",
    "        print(linea)\n",
    "\n",
    "# El archivo se cierra automáticamente cuando acaban las instrucciones escritas dentro de la instrucción \"with\""
   ]
  },
  {
   "cell_type": "markdown",
   "metadata": {},
   "source": [
    "Si el código anterior ocasiona un error al ser ejecutado, asegúrate de que tienes el archivo *prueba.txt* en la misma carpeta desde la que estás ejecutando este notebook.\n",
    "\n",
    "También es posible que al ejecutar Python te devuelva un \"error de codificación\", o que te muestre el contenido del fichero de texto con algunos errores (algunos caracteres aparecen de manera extraña). Esto ocurre porque existen múltiples maneras de representar los caracteres de un fichero de texto en notación binaria. Es lo que se conoce como **codificación de caracteres**. Cada sistema operativo tiene su codificación por defecto, de manera que las líneas que acabamos de escribir para leer un fichero de texto dan por hecho que el fichero de texto está expresado en dicha codificación por defecto (la cuál puede no ser la correcta en tu caso). Para evitar estos problemas, siempre que trabajemos con ficheros de texto en la asignatura estableceremos que los ficheros de texto estén en codificación **UTF-8**. Esto se consigue añadiendo un parámetro a la función open:"
   ]
  },
  {
   "cell_type": "code",
   "execution_count": 147,
   "metadata": {},
   "outputs": [
    {
     "name": "stdout",
     "output_type": "stream",
     "text": [
      "Un pequeño texto de prueba.\n",
      "\n",
      "Sólo hay dos líneas en este fichero.\n"
     ]
    }
   ],
   "source": [
    "with open(\"prueba.txt\", encoding='utf-8') as f:\n",
    "    for linea in f:\n",
    "        print(linea)\n",
    "\n",
    "# El archivo se cierra automáticamente cuando acaban las instrucciones escritas dentro de la instrucción \"with\""
   ]
  },
  {
   "cell_type": "markdown",
   "metadata": {},
   "source": [
    "## 9. Función principal"
   ]
  },
  {
   "cell_type": "markdown",
   "metadata": {},
   "source": [
    "Cuando escribimos nuestro código en un fichero de texto con extensión \".py\", estamos definiendo un módulo. Otros programadores podrán importar nuestro módulo, y hacer uso en sus programas de las funciones que hayamos definido en el mismo, o de las variables y objetos que aparezcan definidos sin indentar.\n",
    "\n",
    "Sin embargo, algunas veces queremos que el código que hemos escrito sea ejecutado por un usuario; es decir, estamos definiendo un **programa ejecutable**. En este caso, el usuario puede ejecutar el programa con el siguiente comando, escrito desde el **terminal** o **ventana de comandos** del sistema operativo:\n",
    "\n",
    "<pre>\n",
    "python nombre_fichero.py\n",
    "</pre>\n",
    "\n",
    "Cuando un programa es ejecutable, debe existir un **punto de entrada**. Un punto de entrada es un conjunto de instrucciones que se ejecutarán cuando se lance el programa. En Python, estas instrucciones se deben escribir dentro de un bloque **if** como el que se muestra a continuación:"
   ]
  },
  {
   "cell_type": "code",
   "execution_count": 1,
   "metadata": {},
   "outputs": [
    {
     "ename": "NameError",
     "evalue": "name 'datetime' is not defined",
     "output_type": "error",
     "traceback": [
      "\u001b[1;31m---------------------------------------------------------------------------\u001b[0m",
      "\u001b[1;31mNameError\u001b[0m                                 Traceback (most recent call last)",
      "\u001b[1;32m<ipython-input-1-1cf6e570c96d>\u001b[0m in \u001b[0;36m<module>\u001b[1;34m\u001b[0m\n\u001b[0;32m      1\u001b[0m \u001b[1;32mif\u001b[0m \u001b[0m__name__\u001b[0m \u001b[1;33m==\u001b[0m \u001b[1;34m'__main__'\u001b[0m\u001b[1;33m:\u001b[0m\u001b[1;33m\u001b[0m\u001b[1;33m\u001b[0m\u001b[0m\n\u001b[0;32m      2\u001b[0m     \u001b[1;31m# Aquí vienen las instrucciones que definen el punto de entrada del programa\u001b[0m\u001b[1;33m\u001b[0m\u001b[1;33m\u001b[0m\u001b[1;33m\u001b[0m\u001b[0m\n\u001b[1;32m----> 3\u001b[1;33m     \u001b[0mhora_actual\u001b[0m \u001b[1;33m=\u001b[0m \u001b[0mdatetime\u001b[0m\u001b[1;33m.\u001b[0m\u001b[0mnow\u001b[0m\u001b[1;33m(\u001b[0m\u001b[1;33m)\u001b[0m\u001b[1;33m\u001b[0m\u001b[1;33m\u001b[0m\u001b[0m\n\u001b[0m\u001b[0;32m      4\u001b[0m     \u001b[0msaluda\u001b[0m\u001b[1;33m(\u001b[0m\u001b[1;34m\"Fermín\"\u001b[0m\u001b[1;33m,\u001b[0m \u001b[0mhora_actual\u001b[0m\u001b[1;33m.\u001b[0m\u001b[0mhour\u001b[0m\u001b[1;33m)\u001b[0m\u001b[1;33m\u001b[0m\u001b[1;33m\u001b[0m\u001b[0m\n\u001b[0;32m      5\u001b[0m \u001b[1;33m\u001b[0m\u001b[0m\n",
      "\u001b[1;31mNameError\u001b[0m: name 'datetime' is not defined"
     ]
    }
   ],
   "source": [
    "if __name__ == '__main__':\n",
    "    # Aquí vienen las instrucciones que definen el punto de entrada del programa\n",
    "    hora_actual = datetime.now() \n",
    "    saluda(\"Fermín\", hora_actual.hour)\n",
    "    "
   ]
  },
  {
   "cell_type": "markdown",
   "metadata": {},
   "source": [
    "A veces, el conjunto de instrucciones que definen el punto de entrada se escribe dentro de una función, a la que se le suele dar el nombre **main**. Esto en Python no es obligatorio, aunque sí lo es en otros lenguajes de programación. Si queremos hacerlo así, entonces el programa ejecutable anterior quedaría como sigue (se muestra a continuación el programa completo, con las sentencias *import* y las definiciones de funciones necesarias):\n"
   ]
  },
  {
   "cell_type": "code",
   "execution_count": 2,
   "metadata": {},
   "outputs": [
    {
     "name": "stdout",
     "output_type": "stream",
     "text": [
      "Buenas tardes, Fermín\n"
     ]
    }
   ],
   "source": [
    "from datetime import datetime\n",
    "\n",
    "\n",
    "def main():\n",
    "    hora_actual = datetime.now() \n",
    "    saluda(\"Fermín\", hora_actual.hour)\n",
    "\n",
    "\n",
    "def saluda(nombre, hora):\n",
    "    if hora < 12:     # Si el parámetro \"hora\" es menor de 12, se ejecuta el siguiente bloque de instrucciones\n",
    "        print(\"Buenos días, \" + nombre)\n",
    "    elif hora < 21:   # En otro caso, si el parámetro \"hora\" es menor de 21, se ejecuta el siguiente bloque de instrucciones\n",
    "        print(\"Buenas tardes, \" + nombre)\n",
    "    else:           # En cualquier otro caso, se ejecuta el siguiente bloque de instrucciones\n",
    "        print(\"Buenas noches, \" + nombre)\n",
    "\n",
    "\n",
    "if __name__ == '__main__':\n",
    "    main()\n",
    " "
   ]
  },
  {
   "cell_type": "markdown",
   "metadata": {},
   "source": [
    "### ¡Prueba tú!"
   ]
  },
  {
   "cell_type": "markdown",
   "metadata": {},
   "source": [
    "Escribe el código anterior en un fichero de texto llamado \"saluda.py\", y trata de ejecutarlo desde el terminal o ventana de comandos de tu sistema operativo."
   ]
  },
  {
   "cell_type": "markdown",
   "metadata": {},
   "source": [
    "---\n",
    "\n",
    "Ya sabes lo básico para entender programas simples escritos en Python y para escribir los tuyos propios. **¡Feliz programación!**"
   ]
  },
  {
   "cell_type": "code",
   "execution_count": 3,
   "metadata": {},
   "outputs": [
    {
     "name": "stdout",
     "output_type": "stream",
     "text": [
      "The Zen of Python, by Tim Peters\n",
      "\n",
      "Beautiful is better than ugly.\n",
      "Explicit is better than implicit.\n",
      "Simple is better than complex.\n",
      "Complex is better than complicated.\n",
      "Flat is better than nested.\n",
      "Sparse is better than dense.\n",
      "Readability counts.\n",
      "Special cases aren't special enough to break the rules.\n",
      "Although practicality beats purity.\n",
      "Errors should never pass silently.\n",
      "Unless explicitly silenced.\n",
      "In the face of ambiguity, refuse the temptation to guess.\n",
      "There should be one-- and preferably only one --obvious way to do it.\n",
      "Although that way may not be obvious at first unless you're Dutch.\n",
      "Now is better than never.\n",
      "Although never is often better than *right* now.\n",
      "If the implementation is hard to explain, it's a bad idea.\n",
      "If the implementation is easy to explain, it may be a good idea.\n",
      "Namespaces are one honking great idea -- let's do more of those!\n"
     ]
    }
   ],
   "source": [
    "# ¿Conoces el \"Zen de Python\"?\n",
    "import this"
   ]
  },
  {
   "cell_type": "code",
   "execution_count": null,
   "metadata": {},
   "outputs": [],
   "source": []
  },
  {
   "cell_type": "code",
   "execution_count": null,
   "metadata": {},
   "outputs": [],
   "source": []
  }
 ],
 "metadata": {
  "anaconda-cloud": {},
  "celltoolbar": "Raw Cell Format",
  "kernelspec": {
   "display_name": "Python 3",
   "language": "python",
   "name": "python3"
  },
  "language_info": {
   "codemirror_mode": {
    "name": "ipython",
    "version": 3
   },
   "file_extension": ".py",
   "mimetype": "text/x-python",
   "name": "python",
   "nbconvert_exporter": "python",
   "pygments_lexer": "ipython3",
   "version": "3.7.3"
  },
  "nbpresent": {
   "slides": {
    "1390653e-bdb6-444a-b611-39c60ffb77a1": {
     "id": "1390653e-bdb6-444a-b611-39c60ffb77a1",
     "prev": "5c2c8cc8-3676-4c06-b94c-d3f866ade69b",
     "regions": {
      "620813b3-9326-41e6-9d30-f5ac4f858225": {
       "attrs": {
        "height": 0.8,
        "width": 0.8,
        "x": 0.1,
        "y": 0.1
       },
       "content": {
        "cell": "86423d42-e808-47e6-b1a7-e925e195f821",
        "part": "whole"
       },
       "id": "620813b3-9326-41e6-9d30-f5ac4f858225"
      }
     }
    },
    "21036f68-a492-4532-a832-b213435c0ad2": {
     "id": "21036f68-a492-4532-a832-b213435c0ad2",
     "prev": "2c1c7f11-e5ee-4a25-8975-f0b033ba739a",
     "regions": {
      "a3908958-0784-4faa-ac97-b9325abe8ede": {
       "attrs": {
        "height": 0.8,
        "width": 0.8,
        "x": 0.1,
        "y": 0.1
       },
       "content": {
        "cell": "9aa64747-dc13-4bd9-bf26-73606628ad1c",
        "part": "whole"
       },
       "id": "a3908958-0784-4faa-ac97-b9325abe8ede"
      }
     }
    },
    "2c1c7f11-e5ee-4a25-8975-f0b033ba739a": {
     "id": "2c1c7f11-e5ee-4a25-8975-f0b033ba739a",
     "prev": "f3f10f50-4cad-4149-b308-c66e6a493a72",
     "regions": {
      "9e2d820e-ec17-4915-b960-0e0d5f640379": {
       "attrs": {
        "height": 0.8,
        "width": 0.8,
        "x": 0.1,
        "y": 0.1
       },
       "content": {
        "cell": "0281a659-abae-4cb9-b30f-b552b9db399e",
        "part": "whole"
       },
       "id": "9e2d820e-ec17-4915-b960-0e0d5f640379"
      }
     }
    },
    "30509a9a-dbd8-4dbd-9fab-852a7266d894": {
     "id": "30509a9a-dbd8-4dbd-9fab-852a7266d894",
     "prev": "8b078b7a-c2c6-4129-a19f-2a4f5c4a26f3",
     "regions": {
      "7baa4379-8f84-4d8f-b002-5a5ffd051489": {
       "attrs": {
        "height": 0.8,
        "width": 0.8,
        "x": 0.1,
        "y": 0.1
       },
       "content": {
        "cell": "14d1a927-b37f-4323-9404-17d453f3b487",
        "part": "whole"
       },
       "id": "7baa4379-8f84-4d8f-b002-5a5ffd051489"
      }
     }
    },
    "42d1bd80-265e-4acf-bbc1-b202afddade3": {
     "id": "42d1bd80-265e-4acf-bbc1-b202afddade3",
     "prev": "9bfe6214-4631-45b5-a05e-8923f178bb57",
     "regions": {
      "f2340145-4108-4fed-a0bc-4b91ca6c10ae": {
       "attrs": {
        "height": 0.8,
        "width": 0.8,
        "x": 0.1,
        "y": 0.1
       },
       "content": {
        "cell": "80be6133-d85a-4e43-9964-6578abcbaaac",
        "part": "whole"
       },
       "id": "f2340145-4108-4fed-a0bc-4b91ca6c10ae"
      }
     }
    },
    "5c2c8cc8-3676-4c06-b94c-d3f866ade69b": {
     "id": "5c2c8cc8-3676-4c06-b94c-d3f866ade69b",
     "prev": "6c4bc874-f3fc-472c-a81c-cd415b91c24b",
     "regions": {
      "e1de7ab6-4ef2-4b14-92d7-b174bf32806e": {
       "attrs": {
        "height": 0.8,
        "width": 0.8,
        "x": 0.1,
        "y": 0.1
       },
       "content": {
        "cell": "ae8725fa-30f7-4d7f-a2c2-5f86953d730b",
        "part": "whole"
       },
       "id": "e1de7ab6-4ef2-4b14-92d7-b174bf32806e"
      }
     }
    },
    "5cab5674-74dc-4378-93d7-eaa79e90cdae": {
     "id": "5cab5674-74dc-4378-93d7-eaa79e90cdae",
     "prev": "ba274d18-2760-4e55-ad47-2727b824fd00",
     "regions": {
      "2178d7cf-bf1e-4850-95a2-1509f15febfa": {
       "attrs": {
        "height": 0.8,
        "width": 0.8,
        "x": 0.1,
        "y": 0.1
       },
       "content": {
        "cell": "5d433d13-f44a-45bb-91fd-406f60b33b67",
        "part": "whole"
       },
       "id": "2178d7cf-bf1e-4850-95a2-1509f15febfa"
      }
     }
    },
    "638df7e1-84d1-4fd4-a15c-c94b731d1bea": {
     "id": "638df7e1-84d1-4fd4-a15c-c94b731d1bea",
     "prev": "b9dddf99-da24-46e1-81d4-8ac33b6fc3a3",
     "regions": {
      "deba8b1f-d997-4426-8f1b-978df7f19b41": {
       "attrs": {
        "height": 0.8,
        "width": 0.8,
        "x": 0.1,
        "y": 0.1
       },
       "content": {
        "cell": "7adaaf8f-a83e-456b-b99a-d3b3d4cb6d1a",
        "part": "whole"
       },
       "id": "deba8b1f-d997-4426-8f1b-978df7f19b41"
      }
     }
    },
    "6bda9eb4-0724-4e53-9971-131d0cb5f9e2": {
     "id": "6bda9eb4-0724-4e53-9971-131d0cb5f9e2",
     "prev": "ee33e624-cd65-4b8c-b28b-c95623a56dbf",
     "regions": {
      "feffbbd2-27d1-4318-8359-7d57583ee2bc": {
       "attrs": {
        "height": 0.8,
        "width": 0.8,
        "x": 0.1,
        "y": 0.1
       },
       "content": {
        "cell": "8dce188c-36b7-41fa-9020-b5cb5502e452",
        "part": "whole"
       },
       "id": "feffbbd2-27d1-4318-8359-7d57583ee2bc"
      }
     }
    },
    "6c4bc874-f3fc-472c-a81c-cd415b91c24b": {
     "id": "6c4bc874-f3fc-472c-a81c-cd415b91c24b",
     "prev": null,
     "regions": {
      "c9eac7e8-d033-4b03-8bf7-abd58ffe8d41": {
       "attrs": {
        "height": 0.8,
        "width": 0.8,
        "x": 0.1,
        "y": 0.1
       },
       "content": {
        "cell": "71219fc3-c9cb-4700-9f0b-ab38b1b223da",
        "part": "whole"
       },
       "id": "c9eac7e8-d033-4b03-8bf7-abd58ffe8d41"
      }
     }
    },
    "6d7ab34f-9d99-4c74-9877-27b25abc73f0": {
     "id": "6d7ab34f-9d99-4c74-9877-27b25abc73f0",
     "prev": "febe7de9-9362-4079-bfe9-2d4dfddf00e2",
     "regions": {
      "2ee252de-db5f-43e7-b4b7-7f59bba29962": {
       "attrs": {
        "height": 0.8,
        "width": 0.8,
        "x": 0.1,
        "y": 0.1
       },
       "content": {
        "cell": "85d1ab90-cc65-4935-808b-a6f57ecc892e",
        "part": "whole"
       },
       "id": "2ee252de-db5f-43e7-b4b7-7f59bba29962"
      }
     }
    },
    "7ea582c3-439d-4ec2-9f27-dea18bcacc31": {
     "id": "7ea582c3-439d-4ec2-9f27-dea18bcacc31",
     "prev": "f0727a74-61a1-48c1-94a5-3e7490c29f0b",
     "regions": {
      "652960af-b61f-4c36-b122-3eacd714867b": {
       "attrs": {
        "height": 0.8,
        "width": 0.8,
        "x": 0.1,
        "y": 0.1
       },
       "content": {
        "cell": "86172e20-fe16-447d-859f-24a81e563011",
        "part": "whole"
       },
       "id": "652960af-b61f-4c36-b122-3eacd714867b"
      }
     }
    },
    "8b078b7a-c2c6-4129-a19f-2a4f5c4a26f3": {
     "id": "8b078b7a-c2c6-4129-a19f-2a4f5c4a26f3",
     "prev": "5cab5674-74dc-4378-93d7-eaa79e90cdae",
     "regions": {
      "dce1e605-9342-414d-b8c6-7dcb922fbf47": {
       "attrs": {
        "height": 0.8,
        "width": 0.8,
        "x": 0.1,
        "y": 0.1
       },
       "content": {
        "cell": "ee1bdf03-6e13-4f1f-9dc9-22d4e344fdba",
        "part": "whole"
       },
       "id": "dce1e605-9342-414d-b8c6-7dcb922fbf47"
      }
     }
    },
    "999513ad-b53e-4d84-b9ef-ed37967f74d6": {
     "id": "999513ad-b53e-4d84-b9ef-ed37967f74d6",
     "prev": "638df7e1-84d1-4fd4-a15c-c94b731d1bea",
     "regions": {
      "2e85c1b2-3c30-413e-9b0f-141281da3a2a": {
       "attrs": {
        "height": 0.8,
        "width": 0.8,
        "x": 0.1,
        "y": 0.1
       },
       "content": {
        "cell": "998dc7f5-ab6d-4fb8-866f-4fa96a06aaaa",
        "part": "whole"
       },
       "id": "2e85c1b2-3c30-413e-9b0f-141281da3a2a"
      }
     }
    },
    "9add3d79-8621-4167-8e1d-d4ae48fba71b": {
     "id": "9add3d79-8621-4167-8e1d-d4ae48fba71b",
     "prev": "7ea582c3-439d-4ec2-9f27-dea18bcacc31",
     "regions": {
      "d5f4537e-4d8c-4179-b14b-6c475f50b04e": {
       "attrs": {
        "height": 0.8,
        "width": 0.8,
        "x": 0.1,
        "y": 0.1
       },
       "content": {
        "cell": "9659b1c1-9aed-4d71-b830-4a60d408ad71",
        "part": "whole"
       },
       "id": "d5f4537e-4d8c-4179-b14b-6c475f50b04e"
      }
     }
    },
    "9bfe6214-4631-45b5-a05e-8923f178bb57": {
     "id": "9bfe6214-4631-45b5-a05e-8923f178bb57",
     "prev": "30509a9a-dbd8-4dbd-9fab-852a7266d894",
     "regions": {
      "aac53254-d149-49f2-8f92-670c6f2714bb": {
       "attrs": {
        "height": 0.8,
        "width": 0.8,
        "x": 0.1,
        "y": 0.1
       },
       "content": {
        "cell": "c71a78d7-9d0e-4825-9c84-9998f971317d",
        "part": "whole"
       },
       "id": "aac53254-d149-49f2-8f92-670c6f2714bb"
      }
     }
    },
    "b9dddf99-da24-46e1-81d4-8ac33b6fc3a3": {
     "id": "b9dddf99-da24-46e1-81d4-8ac33b6fc3a3",
     "prev": "1390653e-bdb6-444a-b611-39c60ffb77a1",
     "regions": {
      "0b31dbb4-f15b-4a16-9420-c5dc8ed4e871": {
       "attrs": {
        "height": 0.8,
        "width": 0.8,
        "x": 0.1,
        "y": 0.1
       },
       "content": {
        "cell": "d0569bb0-fad8-48b7-8d48-0066bfb90401",
        "part": "whole"
       },
       "id": "0b31dbb4-f15b-4a16-9420-c5dc8ed4e871"
      }
     }
    },
    "ba274d18-2760-4e55-ad47-2727b824fd00": {
     "id": "ba274d18-2760-4e55-ad47-2727b824fd00",
     "prev": "ed47079d-58cf-4b87-a9fa-a709d8a7c3c6",
     "regions": {
      "13000b51-bd66-4fb5-970b-20bfad440880": {
       "attrs": {
        "height": 0.8,
        "width": 0.8,
        "x": 0.1,
        "y": 0.1
       },
       "content": {
        "cell": "f6847886-4044-43a7-9edd-f18efddcb7a9",
        "part": "whole"
       },
       "id": "13000b51-bd66-4fb5-970b-20bfad440880"
      }
     }
    },
    "ed47079d-58cf-4b87-a9fa-a709d8a7c3c6": {
     "id": "ed47079d-58cf-4b87-a9fa-a709d8a7c3c6",
     "prev": "9add3d79-8621-4167-8e1d-d4ae48fba71b",
     "regions": {
      "a96aea94-1714-4020-83f9-dbc03e9fd55e": {
       "attrs": {
        "height": 0.8,
        "width": 0.8,
        "x": 0.1,
        "y": 0.1
       },
       "content": {
        "cell": "5a579720-fa62-4525-85e3-dd049cbd73be",
        "part": "whole"
       },
       "id": "a96aea94-1714-4020-83f9-dbc03e9fd55e"
      }
     }
    },
    "ee33e624-cd65-4b8c-b28b-c95623a56dbf": {
     "id": "ee33e624-cd65-4b8c-b28b-c95623a56dbf",
     "prev": "999513ad-b53e-4d84-b9ef-ed37967f74d6",
     "regions": {
      "325ae98d-0855-4d16-8408-6d12f47efa24": {
       "attrs": {
        "height": 0.8,
        "width": 0.8,
        "x": 0.1,
        "y": 0.1
       },
       "content": {
        "cell": "829150e0-712b-4739-92d6-37b9c3d789cb",
        "part": "whole"
       },
       "id": "325ae98d-0855-4d16-8408-6d12f47efa24"
      }
     }
    },
    "f0727a74-61a1-48c1-94a5-3e7490c29f0b": {
     "id": "f0727a74-61a1-48c1-94a5-3e7490c29f0b",
     "prev": "6d7ab34f-9d99-4c74-9877-27b25abc73f0",
     "regions": {
      "1666081e-448d-4f80-90f2-9f26f1568cdc": {
       "attrs": {
        "height": 0.8,
        "width": 0.8,
        "x": 0.1,
        "y": 0.1
       },
       "content": {
        "cell": "d99a804c-9444-418b-bc94-3c2f064e2844",
        "part": "whole"
       },
       "id": "1666081e-448d-4f80-90f2-9f26f1568cdc"
      }
     }
    },
    "f3f10f50-4cad-4149-b308-c66e6a493a72": {
     "id": "f3f10f50-4cad-4149-b308-c66e6a493a72",
     "prev": "42d1bd80-265e-4acf-bbc1-b202afddade3",
     "regions": {
      "4fc1185f-bdb8-46fc-99bd-b8d30defeca9": {
       "attrs": {
        "height": 0.8,
        "width": 0.8,
        "x": 0.1,
        "y": 0.1
       },
       "content": {
        "cell": "9b7597e9-aaa9-4d9f-ba0d-22f43d1a3900",
        "part": "whole"
       },
       "id": "4fc1185f-bdb8-46fc-99bd-b8d30defeca9"
      }
     }
    },
    "febe7de9-9362-4079-bfe9-2d4dfddf00e2": {
     "id": "febe7de9-9362-4079-bfe9-2d4dfddf00e2",
     "prev": "6bda9eb4-0724-4e53-9971-131d0cb5f9e2",
     "regions": {
      "42348103-1cd6-4bac-b346-33cd41aea444": {
       "attrs": {
        "height": 0.8,
        "width": 0.8,
        "x": 0.1,
        "y": 0.1
       },
       "content": {
        "cell": "35a148d4-f201-4441-bf5e-8a07f93dea84",
        "part": "whole"
       },
       "id": "42348103-1cd6-4bac-b346-33cd41aea444"
      }
     }
    }
   },
   "themes": {}
  }
 },
 "nbformat": 4,
 "nbformat_minor": 2
}
